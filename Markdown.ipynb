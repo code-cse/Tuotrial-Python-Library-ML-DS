{
 "cells": [
  {
   "cell_type": "markdown",
   "metadata": {
    "nbpresent": {
     "id": "f5764caf-f1ef-4b8f-944d-b9b3cf396e0c"
    }
   },
   "source": [
    "# Markdown Tutorial"
   ]
  },
  {
   "cell_type": "markdown",
   "metadata": {
    "nbpresent": {
     "id": "5057549c-ad70-46d4-8788-feb6db15f0ac"
    }
   },
   "source": [
    "Welcome to Jupyter Tutorial. This tutorial will explain how to well ornate Jupyter Notebook to make the learning experience better. So let's get started\n",
    "\n",
    "Following are the main objective of this session-\n",
    "1. Learn how to make text italicize text\n",
    "2. How to make text bold\n",
    "3. How to make headers(h1,h2,h3,h4,h5,h6)\n",
    "4. Inserting inline links  \n",
    "4.1. Local links  \n",
    "4.2. Global links\n",
    "5. Insert images  \n",
    "   5.1 local images  \n",
    "   5.2 global images\n",
    "6. How to insert quotes\n",
    "7. To create ordered as well as unordered lists  \n",
    "   7.1 Nested lists\n",
    "8. How to make separate paragraph\n",
    "9. How to insert soft breaks\n",
    "10. Inserting comments\n",
    "11. Latex"
   ]
  },
  {
   "cell_type": "markdown",
   "metadata": {
    "nbpresent": {
     "id": "b4f2dd04-c472-4495-9990-8edeec4891e5"
    }
   },
   "source": [
    "### 1. Learn how to make text italicize- "
   ]
  },
  {
   "cell_type": "markdown",
   "metadata": {
    "nbpresent": {
     "id": "9a23a54a-812a-474e-b7a5-602c85c55cf4"
    }
   },
   "source": [
    "To make a word or group of words you want to italicize, should be preceded and followed by one underscore. For example observe the following example-  "
   ]
  },
  {
   "cell_type": "raw",
   "metadata": {
    "nbpresent": {
     "id": "474a3a5c-b0ed-47c8-8e9e-397ce1bd871a"
    }
   },
   "source": [
    "_Italicized_ or _The group word that to be italicized_"
   ]
  },
  {
   "cell_type": "markdown",
   "metadata": {
    "nbpresent": {
     "id": "9a9c4c3a-3f74-47cb-b201-748c014aba00"
    }
   },
   "source": [
    "_Italicized_ **or** _The group word that to be italicized_"
   ]
  },
  {
   "cell_type": "markdown",
   "metadata": {
    "nbpresent": {
     "id": "ecd29568-3922-4ffa-91d6-e6d7a60235ae"
    }
   },
   "source": [
    "### 2. How to make text bold-"
   ]
  },
  {
   "cell_type": "markdown",
   "metadata": {
    "nbpresent": {
     "id": "7eb584a7-afcb-404a-a045-40ecc421a950"
    }
   },
   "source": [
    "To make a word or group of words you want to bold, should be preceded and followed by one underscore. For example observe the following -"
   ]
  },
  {
   "cell_type": "raw",
   "metadata": {
    "nbpresent": {
     "id": "c7f183be-5099-42c2-b433-5709d89a77a2"
    }
   },
   "source": [
    "**Bold** or **The group word that should be bold**"
   ]
  },
  {
   "cell_type": "markdown",
   "metadata": {
    "nbpresent": {
     "id": "96ee7318-b208-48d1-9138-e5e920c0beb9"
    }
   },
   "source": [
    "**Bold** or **The group word that should be bold**"
   ]
  },
  {
   "cell_type": "markdown",
   "metadata": {
    "nbpresent": {
     "id": "0955a5d0-46f8-4ac7-8a6f-c817c8cb2ed9"
    }
   },
   "source": [
    "### 3. How to make different headers- "
   ]
  },
  {
   "cell_type": "markdown",
   "metadata": {
    "nbpresent": {
     "id": "58d876be-d2c8-4b95-9d5a-f83df4575199"
    }
   },
   "source": [
    "To make different header like h1 to h6, use same number of shebang character infront of header text. For example-"
   ]
  },
  {
   "cell_type": "raw",
   "metadata": {
    "nbpresent": {
     "id": "c5c26123-d126-4b30-9936-36316f6cdf0d"
    }
   },
   "source": [
    "###### Header text\n",
    "##### Header text\n",
    "#### Header text\n",
    "### Header text\n",
    "## Header text\n",
    "# Header text"
   ]
  },
  {
   "cell_type": "markdown",
   "metadata": {
    "nbpresent": {
     "id": "ee7cfb66-37f7-43ef-86d9-dd08e583edd0"
    }
   },
   "source": [
    "###### Header text\n",
    "##### Header text\n",
    "#### Header text\n",
    "### Header text\n",
    "## Header text\n",
    "# Header text"
   ]
  },
  {
   "cell_type": "markdown",
   "metadata": {
    "nbpresent": {
     "id": "55030d47-d156-4389-b419-67231b3bd0ad"
    }
   },
   "source": [
    "### 4. Inline links"
   ]
  },
  {
   "cell_type": "markdown",
   "metadata": {
    "nbpresent": {
     "id": "85b62ccf-578f-4b68-a0c3-dd0a85dde801"
    }
   },
   "source": [
    "#### 4.1 Local inline links"
   ]
  },
  {
   "cell_type": "markdown",
   "metadata": {
    "nbpresent": {
     "id": "0453513a-904b-4f26-a814-be5229a5cf1a"
    }
   },
   "source": [
    "Inline links are used to redirect user to different webiste to provide additional information. Follow the following example -"
   ]
  },
  {
   "cell_type": "raw",
   "metadata": {
    "nbpresent": {
     "id": "5473f176-67bb-47da-a09f-e4d89525c655"
    }
   },
   "source": [
    "For addition information you can always [Google](https://www.google.co.in) it."
   ]
  },
  {
   "cell_type": "markdown",
   "metadata": {
    "nbpresent": {
     "id": "f00d11a3-5ba3-49d6-b337-45d2506b7792"
    }
   },
   "source": [
    "For addition information you can always [Google](https://www.google.co.in) it."
   ]
  },
  {
   "cell_type": "markdown",
   "metadata": {
    "nbpresent": {
     "id": "4df0a648-982f-4cac-9107-e7746ffff6c4"
    }
   },
   "source": [
    "#### 4.2 Global inline links"
   ]
  },
  {
   "cell_type": "markdown",
   "metadata": {
    "nbpresent": {
     "id": "6a8f7793-28f0-47b5-a31f-2ceb78ef4522"
    }
   },
   "source": [
    "We can also make inline links global, so in case of any modification we need to modify only one line and the result is reflected everywhere. See the following example carefully -"
   ]
  },
  {
   "cell_type": "raw",
   "metadata": {
    "nbpresent": {
     "id": "f7d7399f-e6ff-4850-8df0-c6ee1be96e71"
    }
   },
   "source": [
    "For additional information you can always [Google][Some link] it.\n",
    "[Some link]: https://www.google.co.in"
   ]
  },
  {
   "cell_type": "markdown",
   "metadata": {
    "nbpresent": {
     "id": "f2a4a658-0d85-4aa0-b4e8-302d03632d8d"
    }
   },
   "source": [
    "For additional information you can always [Google][Some link] it.\n",
    "[Some link]: https://www.google.co.in"
   ]
  },
  {
   "cell_type": "markdown",
   "metadata": {
    "nbpresent": {
     "id": "9cfce450-fe8b-4ed9-a1d0-79ad0f3ba0af"
    }
   },
   "source": [
    "### 5. Inserting images"
   ]
  },
  {
   "cell_type": "markdown",
   "metadata": {
    "nbpresent": {
     "id": "1b64c851-275c-4c46-b5c5-64fc94c492bd"
    }
   },
   "source": [
    "#### 5.1. Local Images"
   ]
  },
  {
   "cell_type": "markdown",
   "metadata": {
    "nbpresent": {
     "id": "5e60ea77-2200-461c-85d8-68168e3f72ef"
    }
   },
   "source": [
    "Images can also be inserted with ease in Markdown. The format is very similar to what we have seen in earlier section, just an exclamation mark is added-"
   ]
  },
  {
   "cell_type": "raw",
   "metadata": {
    "nbpresent": {
     "id": "46b975c1-e993-4e8a-9b07-dd6d33da0547"
    }
   },
   "source": [
    "![Pyhton Foundation Logo](images/psf-logo.png)"
   ]
  },
  {
   "cell_type": "markdown",
   "metadata": {
    "nbpresent": {
     "id": "9fc6f5a3-8cb1-42cd-a04f-66ea69e5b7d0"
    }
   },
   "source": [
    "![Pyhton Foundation Logo](images/psf-logo.png)"
   ]
  },
  {
   "cell_type": "markdown",
   "metadata": {
    "nbpresent": {
     "id": "1cbd5f46-547a-43f0-9cc2-7bdcf70661b1"
    }
   },
   "source": [
    "#### 5.2. Global Images"
   ]
  },
  {
   "cell_type": "markdown",
   "metadata": {
    "nbpresent": {
     "id": "95b35eea-d02f-4a57-86e5-3e87821c2dc3"
    }
   },
   "source": [
    "Images can also be declared globally same as global links-"
   ]
  },
  {
   "cell_type": "raw",
   "metadata": {
    "nbpresent": {
     "id": "639d4e6f-abdc-449f-b0b1-d5597c111c67"
    }
   },
   "source": [
    "![Python Foundation Logo][link to image]\n",
    "[link to image]: images/psf-logo.png"
   ]
  },
  {
   "cell_type": "markdown",
   "metadata": {
    "nbpresent": {
     "id": "904d404f-2445-44e4-834f-71eea56fe0aa"
    }
   },
   "source": [
    "![Python Foundation Logo][link to image]\n",
    "[link to image]: images/psf-logo.png"
   ]
  },
  {
   "cell_type": "markdown",
   "metadata": {
    "nbpresent": {
     "id": "017609b0-1ae9-407d-951c-1a88a252da5d"
    }
   },
   "source": [
    "### 6. Inserting Quotes"
   ]
  },
  {
   "cell_type": "markdown",
   "metadata": {
    "nbpresent": {
     "id": "d5c86e7b-76c5-44f8-9e76-8d3b06b3f8f8"
    }
   },
   "source": [
    "Quotes can also be easily inserted in mardown with ease. Just add a carrot symbol in front of text to make it quotes. For example-  "
   ]
  },
  {
   "cell_type": "raw",
   "metadata": {
    "nbpresent": {
     "id": "6c799685-d6c2-4465-ab87-960078ccc573"
    }
   },
   "source": [
    "The following was said by Nelson Mandela-\n",
    ">\"The greatest glory in living lies not in never falling, but in rising every time we fall.\"(Enter)\n",
    ">\"If you want to make peace with your enemy, you have to work with your enemy. Then he becomes your partner.\""
   ]
  },
  {
   "cell_type": "markdown",
   "metadata": {
    "nbpresent": {
     "id": "5f77fc1c-c2c6-4f48-ac0f-411cd3379a5d"
    }
   },
   "source": [
    "The following was said by Nelson Mandela-\n",
    ">\"The greatest glory in living lies not in never falling, but in rising every time we fall.\"\n",
    "\n",
    ">\"If you want to make peace with your enemy, you have to work with your enemy. Then he becomes your partner.\""
   ]
  },
  {
   "cell_type": "markdown",
   "metadata": {
    "nbpresent": {
     "id": "cac693bd-64c2-4a1f-9f07-669bcac2f494"
    }
   },
   "source": [
    "### 7. Ordered and Unordered Lists"
   ]
  },
  {
   "cell_type": "markdown",
   "metadata": {
    "nbpresent": {
     "id": "c62e456a-eab0-455d-ae27-92f9d1a9650f"
    }
   },
   "source": [
    "We can create ordered as well as unordered lists in Markdown. These lists can also be nested to convey complex structures. Check out the following examples-"
   ]
  },
  {
   "cell_type": "raw",
   "metadata": {
    "nbpresent": {
     "id": "f5369e83-7b4e-43f9-8343-8f901d23fcb8"
    }
   },
   "source": [
    "Unorder list can be created just by prepending different bullet points with asterisk\n",
    "* First item in list\n",
    "* Second item in list\n",
    "\n",
    "Ordered list can be created just by prepending different bullet points with numbers folloed by one space character\n",
    "1. First item in list\n",
    "2. Second item in list"
   ]
  },
  {
   "cell_type": "markdown",
   "metadata": {
    "nbpresent": {
     "id": "b406ee42-1216-43fd-9d64-4abc33beb0e0"
    }
   },
   "source": [
    "Unorder list can be created just by prepending different bullet points with asterisk\n",
    "* First item in list\n",
    "* Second item in list\n",
    "\n",
    "Ordered list can be created just by prepending different bullet points with numbers folloed by one space character\n",
    "1. First item in list\n",
    "2. Second item in list"
   ]
  },
  {
   "cell_type": "markdown",
   "metadata": {
    "nbpresent": {
     "id": "72ea91e2-0399-4874-bd22-b96bed5d2de4"
    }
   },
   "source": [
    "#### 7.1. Nested lists\n",
    "\n",
    "Nested lists can be created in markdown by providing one space character in front of sublist items. Observe the following example carefully-"
   ]
  },
  {
   "cell_type": "raw",
   "metadata": {
    "nbpresent": {
     "id": "521724ea-2c21-4675-9d0a-c6730e698278"
    }
   },
   "source": [
    "* First item\n",
    " * first sub item\n",
    " * second sub item\n",
    "* Second item\n",
    " * first subitem\n",
    " \n",
    "Similarly for ordered list-\n",
    "\n",
    "1. First item\n",
    " 1. first subitem\n",
    " 2. second subitem\n",
    "2. Second item\n",
    " 1. first item"
   ]
  },
  {
   "cell_type": "markdown",
   "metadata": {
    "nbpresent": {
     "id": "d205b03e-e9b4-46cf-832b-2ae0e0d92640"
    }
   },
   "source": [
    "* First item\n",
    " * first sub item\n",
    " * second sub item\n",
    "* Second item\n",
    " * first subitem\n",
    " \n",
    "Similarly for ordered list-\n",
    "\n",
    "1. First item\n",
    " 1. first subitem\n",
    " 2. second subitem\n",
    "2. Second item\n",
    " 1. first item\n",
    " \n",
    "Note that the index in sublist has been converted to alphabets."
   ]
  },
  {
   "cell_type": "markdown",
   "metadata": {
    "nbpresent": {
     "id": "43811285-9a1c-428a-ac74-526b46b985ba"
    }
   },
   "source": [
    "### 8. Creating paragraph\n",
    "\n",
    "New paragraphs can be creating just leaving one line between two sentences. For example-"
   ]
  },
  {
   "cell_type": "raw",
   "metadata": {
    "nbpresent": {
     "id": "fe267105-b228-4fe9-a73a-1bf9edb955b8"
    }
   },
   "source": [
    "Lorem ipsum dolor sit amet, consectetur adipiscing elit, sed do eiusmod tempor incididunt ut labore et dolore magna aliqua. Ut enim ad minim veniam, quis nostrud exercitation ullamco laboris nisi ut aliquip ex ea commodo consequat. Duis aute irure dolor in reprehenderit in voluptate velit esse cillum dolore eu fugiat nulla pariatur. Excepteur sint occaecat cupidatat non proident, sunt in culpa qui officia deserunt mollit anim id est laborum.\n",
    "                                         <<<<-----((((Blank Line))))----->>>>\n",
    "Lorem ipsum dolor sit amet, consectetur adipiscing elit, sed do eiusmod tempor incididunt ut labore et dolore magna aliqua. Ut enim ad minim veniam, quis nostrud exercitation ullamco laboris nisi ut aliquip ex ea commodo consequat. Duis aute irure dolor in reprehenderit in voluptate velit esse cillum dolore eu fugiat nulla pariatur. Excepteur sint occaecat cupidatat non proident, sunt in culpa qui officia deserunt mollit anim id est laborum."
   ]
  },
  {
   "cell_type": "markdown",
   "metadata": {
    "nbpresent": {
     "id": "daf5ca6b-b772-4a75-b306-e6ef2d87cdfb"
    }
   },
   "source": [
    "Lorem ipsum dolor sit amet, consectetur adipiscing elit, sed do eiusmod tempor incididunt ut labore et dolore magna aliqua. Ut enim ad minim veniam, quis nostrud exercitation ullamco laboris nisi ut aliquip ex ea commodo consequat. Duis aute irure dolor in reprehenderit in voluptate velit esse cillum dolore eu fugiat nulla pariatur. Excepteur sint occaecat cupidatat non proident, sunt in culpa qui officia deserunt mollit anim id est laborum.\n",
    "\n",
    "Lorem ipsum dolor sit amet, consectetur adipiscing elit, sed do eiusmod tempor incididunt ut labore et dolore magna aliqua. Ut enim ad minim veniam, quis nostrud exercitation ullamco laboris nisi ut aliquip ex ea commodo consequat. Duis aute irure dolor in reprehenderit in voluptate velit esse cillum dolore eu fugiat nulla pariatur. Excepteur sint occaecat cupidatat non proident, sunt in culpa qui officia deserunt mollit anim id est laborum."
   ]
  },
  {
   "cell_type": "markdown",
   "metadata": {
    "nbpresent": {
     "id": "8f590b12-2935-4184-b200-2048cb414bd6"
    }
   },
   "source": [
    "### 9. Inserting soft breaks\n",
    "\n",
    "Sometime we need to insert a soft breaks which enables us write a sentence without moving to next paragraph. We have seen this style of writing in poetry. For example-"
   ]
  },
  {
   "cell_type": "raw",
   "metadata": {},
   "source": [
    "Some line of text(two space characters)  \n",
    "Some other line of text"
   ]
  },
  {
   "cell_type": "markdown",
   "metadata": {
    "nbpresent": {
     "id": "50ca0cff-98a4-4067-b3ef-2b03007f367f"
    }
   },
   "source": [
    "Some line of text  \n",
    "Some other line of text"
   ]
  },
  {
   "cell_type": "markdown",
   "metadata": {
    "nbpresent": {
     "id": "01da1598-5299-4d2b-8b2d-f3bf3411c554"
    }
   },
   "source": [
    "### 10. Inserting comments\n",
    "\n",
    "To insert comments in markdown you need to follow the following convention-"
   ]
  },
  {
   "cell_type": "raw",
   "metadata": {
    "nbpresent": {
     "id": "84a6beb1-854d-4d1f-a15d-bccbd233d7c7"
    }
   },
   "source": [
    "[comment]: <> (This is a comment which is not visible)\n",
    "Some random text"
   ]
  },
  {
   "cell_type": "markdown",
   "metadata": {},
   "source": [
    "### 11. Latex\n",
    "Using latex is also very usefull and powerfull in its own way. You can insert mathematical symbols and equation with ease. You can quickly reference Latex syntax from [here](http://meta.math.stackexchange.com/questions/5020/mathjax-basic-tutorial-and-quick-reference). You can use [this](http://csrgxtu.github.io/2015/03/20/Writing-Mathematic-Fomulars-in-Markdown/) lookup table to quickly reference available symbols. There are two types of latex embedding-\n",
    "* Inline (**'$'**)\n",
    "* Block  (**'$$'**)\n",
    "\n",
    "Lets look at examples of each type to get a hang of above mentioned concepts-"
   ]
  },
  {
   "cell_type": "raw",
   "metadata": {},
   "source": [
    "Inline Latex:\n",
    "The *Gamma function* satisfying $\\Gamma(n) = (n-1)!\\quad\\forall n\\in\\mathbb N$ is via through the Euler integral\n",
    "\n",
    "Block Latex:\n",
    "$$\n",
    "\\Gamma(z) = \\int_0^\\infty t^{z-1}e^{-t}dt\\,.\n",
    "$$"
   ]
  },
  {
   "cell_type": "markdown",
   "metadata": {},
   "source": [
    "**Inline Latex:**  \n",
    "The *Gamma function* satisfying $\\Gamma(n) = (n-1)!\\quad\\forall\n",
    "n\\in\\mathbb N$ is via through the Euler integral\n",
    "\n",
    "**Block Latex:**  \n",
    "$$\n",
    "\\Gamma(z) = \\int_0^\\infty t^{z-1}e^{-t}dt\\,.\n",
    "$$"
   ]
  }
 ],
 "metadata": {
  "anaconda-cloud": {},
  "kernelspec": {
   "display_name": "Python [conda root]",
   "language": "python",
   "name": "conda-root-py"
  },
  "language_info": {
   "codemirror_mode": {
    "name": "ipython",
    "version": 3
   },
   "file_extension": ".py",
   "mimetype": "text/x-python",
   "name": "python",
   "nbconvert_exporter": "python",
   "pygments_lexer": "ipython3",
   "version": "3.5.2"
  },
  "nbpresent": {
   "slides": {
    "0680ba5e-e172-4b67-96ae-39f46e1fc07d": {
     "id": "0680ba5e-e172-4b67-96ae-39f46e1fc07d",
     "prev": "464724ee-c7dc-429f-a23c-20619043e057",
     "regions": {
      "50c27a0c-5a5f-40fd-a1c2-4ea829d7efb5": {
       "attrs": {
        "height": 0.8,
        "width": 0.8,
        "x": 0.1,
        "y": 0.1
       },
       "content": {
        "cell": "017609b0-1ae9-407d-951c-1a88a252da5d",
        "part": "whole"
       },
       "id": "50c27a0c-5a5f-40fd-a1c2-4ea829d7efb5"
      }
     }
    },
    "07af060a-720d-4244-bf1d-ec360898cb7e": {
     "id": "07af060a-720d-4244-bf1d-ec360898cb7e",
     "prev": "2b8586f1-8b23-46e3-b2e7-c43745b33b94",
     "regions": {
      "698fc936-ec60-4f55-96f5-82bfdb7c51a3": {
       "attrs": {
        "height": 0.8,
        "width": 0.8,
        "x": 0.1,
        "y": 0.1
       },
       "content": {
        "cell": "5057549c-ad70-46d4-8788-feb6db15f0ac",
        "part": "whole"
       },
       "id": "698fc936-ec60-4f55-96f5-82bfdb7c51a3"
      }
     }
    },
    "0f0dd4db-9f91-4f10-9b39-59633c448a90": {
     "id": "0f0dd4db-9f91-4f10-9b39-59633c448a90",
     "prev": "9573350f-e4f9-4558-a9f4-b2c8e525a855",
     "regions": {
      "eb993985-0472-45f0-8a9f-0c9a8c5370d0": {
       "attrs": {
        "height": 0.8,
        "width": 0.8,
        "x": 0.1,
        "y": 0.1
       },
       "content": {
        "cell": "9a9c4c3a-3f74-47cb-b201-748c014aba00",
        "part": "whole"
       },
       "id": "eb993985-0472-45f0-8a9f-0c9a8c5370d0"
      }
     }
    },
    "0f82fa78-965b-4024-97fb-4c81af54a865": {
     "id": "0f82fa78-965b-4024-97fb-4c81af54a865",
     "prev": "c7a4d771-0d38-496d-8150-db9c42f9c7fc",
     "regions": {
      "2c9f197e-2a90-44c4-9252-202e761411df": {
       "attrs": {
        "height": 0.8,
        "width": 0.8,
        "x": 0.1,
        "y": 0.1
       },
       "content": {
        "cell": "ee7cfb66-37f7-43ef-86d9-dd08e583edd0",
        "part": "whole"
       },
       "id": "2c9f197e-2a90-44c4-9252-202e761411df"
      }
     }
    },
    "19e65cb9-7039-47e5-8582-5d59189b333b": {
     "id": "19e65cb9-7039-47e5-8582-5d59189b333b",
     "prev": "5efa0578-e828-465a-86fc-622c87a90021",
     "regions": {
      "6470323a-b0f2-4eb5-b37a-98efff5287d7": {
       "attrs": {
        "height": 0.8,
        "width": 0.8,
        "x": 0.1,
        "y": 0.1
       },
       "content": {
        "cell": "5473f176-67bb-47da-a09f-e4d89525c655",
        "part": "whole"
       },
       "id": "6470323a-b0f2-4eb5-b37a-98efff5287d7"
      }
     }
    },
    "1a46a973-94b0-4047-9950-b691c111e2a6": {
     "id": "1a46a973-94b0-4047-9950-b691c111e2a6",
     "prev": "dc621cd4-c1b7-4d2c-b2d7-ce3a01a4d5ce",
     "regions": {
      "3eb83a54-4ba1-4765-bb54-827c9c2634b3": {
       "attrs": {
        "height": 0.8,
        "width": 0.8,
        "x": 0.1,
        "y": 0.1
       },
       "content": {
        "cell": "fe267105-b228-4fe9-a73a-1bf9edb955b8",
        "part": "whole"
       },
       "id": "3eb83a54-4ba1-4765-bb54-827c9c2634b3"
      }
     }
    },
    "20e25f58-9b7d-4d83-b3e6-7045db9faa2a": {
     "id": "20e25f58-9b7d-4d83-b3e6-7045db9faa2a",
     "prev": "940bb0c7-1f60-4353-849c-cdb47266193c",
     "regions": {
      "b07009df-ec5d-49cf-b585-99e64b2efd0f": {
       "attrs": {
        "height": 0.8,
        "width": 0.8,
        "x": 0.1,
        "y": 0.1
       },
       "content": {
        "cell": "521724ea-2c21-4675-9d0a-c6730e698278",
        "part": "whole"
       },
       "id": "b07009df-ec5d-49cf-b585-99e64b2efd0f"
      }
     }
    },
    "26521fa4-060d-4c67-aa0f-d334dde809b1": {
     "id": "26521fa4-060d-4c67-aa0f-d334dde809b1",
     "prev": "3052969d-6fe6-4266-9fbd-a9dda5b81a8d",
     "regions": {
      "dd8131b1-2c97-4757-a440-d2f43a297dd3": {
       "attrs": {
        "height": 0.8,
        "width": 0.8,
        "x": 0.1,
        "y": 0.1
       },
       "content": {
        "cell": "6c799685-d6c2-4465-ab87-960078ccc573",
        "part": "whole"
       },
       "id": "dd8131b1-2c97-4757-a440-d2f43a297dd3"
      }
     }
    },
    "285f9bcc-cf05-48a2-92a2-a840a3a2f524": {
     "id": "285f9bcc-cf05-48a2-92a2-a840a3a2f524",
     "prev": "0f82fa78-965b-4024-97fb-4c81af54a865",
     "regions": {
      "4dfa9717-c05a-47c1-a1f0-3f2a89c09465": {
       "attrs": {
        "height": 0.8,
        "width": 0.8,
        "x": 0.1,
        "y": 0.1
       },
       "content": {
        "cell": "55030d47-d156-4389-b419-67231b3bd0ad",
        "part": "whole"
       },
       "id": "4dfa9717-c05a-47c1-a1f0-3f2a89c09465"
      }
     }
    },
    "2b8586f1-8b23-46e3-b2e7-c43745b33b94": {
     "id": "2b8586f1-8b23-46e3-b2e7-c43745b33b94",
     "prev": "52776b11-ed12-469e-a8b6-1ad911870796",
     "regions": {
      "b272d0ae-bf76-4943-80a7-4b96fffbaecd": {
       "attrs": {
        "height": 0.8,
        "width": 0.8,
        "x": 0.1,
        "y": 0.1
       },
       "content": {
        "cell": "1b64c851-275c-4c46-b5c5-64fc94c492bd",
        "part": "whole"
       },
       "id": "b272d0ae-bf76-4943-80a7-4b96fffbaecd"
      }
     }
    },
    "3052969d-6fe6-4266-9fbd-a9dda5b81a8d": {
     "id": "3052969d-6fe6-4266-9fbd-a9dda5b81a8d",
     "prev": "0680ba5e-e172-4b67-96ae-39f46e1fc07d",
     "regions": {
      "64ad09ad-460d-49bb-a812-c44e93caea6d": {
       "attrs": {
        "height": 0.8,
        "width": 0.8,
        "x": 0.1,
        "y": 0.1
       },
       "content": {
        "cell": "d5c86e7b-76c5-44f8-9e76-8d3b06b3f8f8",
        "part": "whole"
       },
       "id": "64ad09ad-460d-49bb-a812-c44e93caea6d"
      }
     }
    },
    "35e160b1-d633-49c0-adbf-fa964587ac8d": {
     "id": "35e160b1-d633-49c0-adbf-fa964587ac8d",
     "prev": "20e25f58-9b7d-4d83-b3e6-7045db9faa2a",
     "regions": {
      "633108c6-c7f3-4e4d-853f-9d456a800cce": {
       "attrs": {
        "height": 0.8,
        "width": 0.8,
        "x": 0.1,
        "y": 0.1
       },
       "content": {
        "cell": "d205b03e-e9b4-46cf-832b-2ae0e0d92640",
        "part": "whole"
       },
       "id": "633108c6-c7f3-4e4d-853f-9d456a800cce"
      }
     }
    },
    "36a7d65c-2ddd-49a0-a25d-e9f5fe8e2859": {
     "id": "36a7d65c-2ddd-49a0-a25d-e9f5fe8e2859",
     "prev": "42488195-1351-476d-809d-40d3473b4efd",
     "regions": {
      "f0262a00-11af-4c58-98ec-8497dba56825": {
       "attrs": {
        "height": 0.8,
        "width": 0.8,
        "x": 0.1,
        "y": 0.1
       },
       "content": {
        "cell": "0955a5d0-46f8-4ac7-8a6f-c817c8cb2ed9",
        "part": "whole"
       },
       "id": "f0262a00-11af-4c58-98ec-8497dba56825"
      }
     }
    },
    "39256a38-1883-491e-ac4a-e40140651e4d": {
     "id": "39256a38-1883-491e-ac4a-e40140651e4d",
     "prev": "a8552f82-e781-4956-b822-89acc649f930",
     "regions": {
      "44274f86-3515-4cb7-935b-635549624575": {
       "attrs": {
        "height": 0.8,
        "width": 0.8,
        "x": 0.1,
        "y": 0.1
       },
       "content": {
        "cell": "7eb584a7-afcb-404a-a045-40ecc421a950",
        "part": "whole"
       },
       "id": "44274f86-3515-4cb7-935b-635549624575"
      }
     }
    },
    "3aa1a82b-f838-481e-8e72-5828b9db4d8d": {
     "id": "3aa1a82b-f838-481e-8e72-5828b9db4d8d",
     "prev": "cbadcdc0-13aa-4638-9d60-6dd5d6f9ae2d",
     "regions": {
      "4abe9d4d-d576-4b03-a955-f79a2edfbaad": {
       "attrs": {
        "height": 0.8,
        "width": 0.8,
        "x": 0.1,
        "y": 0.1
       },
       "content": {
        "cell": "f7d7399f-e6ff-4850-8df0-c6ee1be96e71",
        "part": "whole"
       },
       "id": "4abe9d4d-d576-4b03-a955-f79a2edfbaad"
      }
     }
    },
    "3c69648c-1e60-4f5d-a0d4-0c250da4c06e": {
     "id": "3c69648c-1e60-4f5d-a0d4-0c250da4c06e",
     "prev": "fff85812-3557-4db5-9228-47f3ae01d228",
     "regions": {
      "02e77bbd-9255-4635-bfa1-e860fc831288": {
       "attrs": {
        "height": 0.8,
        "width": 0.8,
        "x": 0.1,
        "y": 0.1
       },
       "content": {
        "cell": "1cbd5f46-547a-43f0-9cc2-7bdcf70661b1",
        "part": "whole"
       },
       "id": "02e77bbd-9255-4635-bfa1-e860fc831288"
      }
     }
    },
    "42488195-1351-476d-809d-40d3473b4efd": {
     "id": "42488195-1351-476d-809d-40d3473b4efd",
     "prev": "97bc0ff6-bf5a-43ee-b85e-f9af6089b4bb",
     "regions": {
      "899533d9-cc9f-4437-b756-4b7b7285d3fc": {
       "attrs": {
        "height": 0.8,
        "width": 0.8,
        "x": 0.1,
        "y": 0.1
       },
       "content": {
        "cell": "96ee7318-b208-48d1-9138-e5e920c0beb9",
        "part": "whole"
       },
       "id": "899533d9-cc9f-4437-b756-4b7b7285d3fc"
      }
     }
    },
    "45ba6394-a66c-4084-b1e6-a61ec8e8f1dc": {
     "id": "45ba6394-a66c-4084-b1e6-a61ec8e8f1dc",
     "prev": "65ef348d-a333-487c-91bc-8c2349f2afe3",
     "regions": {
      "8b88f6e0-0134-4464-a48f-e2d450c9c0ff": {
       "attrs": {
        "height": 0.8,
        "width": 0.8,
        "x": 0.1,
        "y": 0.1
       },
       "content": {
        "cell": "f5369e83-7b4e-43f9-8343-8f901d23fcb8",
        "part": "whole"
       },
       "id": "8b88f6e0-0134-4464-a48f-e2d450c9c0ff"
      }
     }
    },
    "464724ee-c7dc-429f-a23c-20619043e057": {
     "id": "464724ee-c7dc-429f-a23c-20619043e057",
     "prev": "6c299a06-85bd-4145-bf61-4ca26b0dfceb",
     "regions": {
      "2a12c6cc-fcb4-486f-aebb-3cbbdd12a794": {
       "attrs": {
        "height": 0.8,
        "width": 0.8,
        "x": 0.1,
        "y": 0.1
       },
       "content": {
        "cell": "904d404f-2445-44e4-834f-71eea56fe0aa",
        "part": "whole"
       },
       "id": "2a12c6cc-fcb4-486f-aebb-3cbbdd12a794"
      }
     }
    },
    "52776b11-ed12-469e-a8b6-1ad911870796": {
     "id": "52776b11-ed12-469e-a8b6-1ad911870796",
     "prev": null,
     "regions": {
      "7cfadd9c-de1f-4fc1-8643-d29dd7d7d2ee": {
       "attrs": {
        "height": 0.8,
        "width": 0.8,
        "x": 0.1,
        "y": 0.1
       },
       "content": {
        "cell": "f5764caf-f1ef-4b8f-944d-b9b3cf396e0c",
        "part": "whole"
       },
       "id": "7cfadd9c-de1f-4fc1-8643-d29dd7d7d2ee"
      }
     }
    },
    "589f5c05-a36f-4856-8eda-5c331302d7f7": {
     "id": "589f5c05-a36f-4856-8eda-5c331302d7f7",
     "prev": "cd700379-156c-46b6-9e71-f4b4178aac71",
     "regions": {
      "66822e4f-1c82-4a84-8d55-0cbf6f413652": {
       "attrs": {
        "height": 0.8,
        "width": 0.8,
        "x": 0.1,
        "y": 0.1
       },
       "content": {
        "cell": "9a23a54a-812a-474e-b7a5-602c85c55cf4",
        "part": "whole"
       },
       "id": "66822e4f-1c82-4a84-8d55-0cbf6f413652"
      }
     }
    },
    "5cbd6b67-e584-4afd-a1c6-2e69b5811834": {
     "id": "5cbd6b67-e584-4afd-a1c6-2e69b5811834",
     "prev": "ad39996b-06d1-4328-b7c2-9cb1d6d5a1c8",
     "regions": {
      "706389cb-5754-42c8-9bfd-f5d3bab707a7": {
       "attrs": {
        "height": 0.8,
        "width": 0.8,
        "x": 0.1,
        "y": 0.1
       },
       "content": {
        "cell": "cac693bd-64c2-4a1f-9f07-669bcac2f494",
        "part": "whole"
       },
       "id": "706389cb-5754-42c8-9bfd-f5d3bab707a7"
      }
     }
    },
    "5efa0578-e828-465a-86fc-622c87a90021": {
     "id": "5efa0578-e828-465a-86fc-622c87a90021",
     "prev": "fa988421-ef30-4669-a239-16be753922e5",
     "regions": {
      "502bbd7b-5975-4211-a8aa-4cdf11a2ea9a": {
       "attrs": {
        "height": 0.8,
        "width": 0.8,
        "x": 0.1,
        "y": 0.1
       },
       "content": {
        "cell": "0453513a-904b-4f26-a814-be5229a5cf1a",
        "part": "whole"
       },
       "id": "502bbd7b-5975-4211-a8aa-4cdf11a2ea9a"
      }
     }
    },
    "65ef348d-a333-487c-91bc-8c2349f2afe3": {
     "id": "65ef348d-a333-487c-91bc-8c2349f2afe3",
     "prev": "5cbd6b67-e584-4afd-a1c6-2e69b5811834",
     "regions": {
      "4c885600-971f-48a5-8fb6-ff7dbf0c52bc": {
       "attrs": {
        "height": 0.8,
        "width": 0.8,
        "x": 0.1,
        "y": 0.1
       },
       "content": {
        "cell": "c62e456a-eab0-455d-ae27-92f9d1a9650f",
        "part": "whole"
       },
       "id": "4c885600-971f-48a5-8fb6-ff7dbf0c52bc"
      }
     }
    },
    "6a9b1fb3-bddd-48a0-98a6-6007d99865ff": {
     "id": "6a9b1fb3-bddd-48a0-98a6-6007d99865ff",
     "prev": "cc5dbd91-cc53-4c8e-b311-08bbd6992214",
     "regions": {
      "12c9b0d3-ca5f-44e0-9f9f-74e29d76437e": {
       "attrs": {
        "height": 0.8,
        "width": 0.8,
        "x": 0.1,
        "y": 0.1
       },
       "content": {
        "cell": "5e60ea77-2200-461c-85d8-68168e3f72ef",
        "part": "whole"
       },
       "id": "12c9b0d3-ca5f-44e0-9f9f-74e29d76437e"
      }
     }
    },
    "6c299a06-85bd-4145-bf61-4ca26b0dfceb": {
     "id": "6c299a06-85bd-4145-bf61-4ca26b0dfceb",
     "prev": "a38859b2-030d-424e-8819-f43ed702f402",
     "regions": {
      "f4a6b9ca-97d0-4940-bbb5-f02a1a2e70b3": {
       "attrs": {
        "height": 0.8,
        "width": 0.8,
        "x": 0.1,
        "y": 0.1
       },
       "content": {
        "cell": "639d4e6f-abdc-449f-b0b1-d5597c111c67",
        "part": "whole"
       },
       "id": "f4a6b9ca-97d0-4940-bbb5-f02a1a2e70b3"
      }
     }
    },
    "786a20b3-ba25-49db-93b4-e0d00425aebc": {
     "id": "786a20b3-ba25-49db-93b4-e0d00425aebc",
     "prev": "f03c17e8-1fe5-456a-9ff0-c3280339274e",
     "regions": {
      "c0847e9d-d7a0-4fc5-b2ff-b22c7a7ecd0a": {
       "attrs": {
        "height": 0.8,
        "width": 0.8,
        "x": 0.1,
        "y": 0.1
       },
       "content": {
        "cell": "8f590b12-2935-4184-b200-2048cb414bd6",
        "part": "whole"
       },
       "id": "c0847e9d-d7a0-4fc5-b2ff-b22c7a7ecd0a"
      }
     }
    },
    "80aaa0d2-222f-43c8-8188-e24f224397de": {
     "id": "80aaa0d2-222f-43c8-8188-e24f224397de",
     "prev": "786a20b3-ba25-49db-93b4-e0d00425aebc",
     "regions": {
      "3645558f-66ee-4725-bc37-e2d573847ba7": {
       "attrs": {
        "height": 0.8,
        "width": 0.8,
        "x": 0.1,
        "y": 0.1
       },
       "content": {
        "cell": "50ca0cff-98a4-4067-b3ef-2b03007f367f",
        "part": "whole"
       },
       "id": "3645558f-66ee-4725-bc37-e2d573847ba7"
      }
     }
    },
    "81c835a9-4d64-4fd7-a3f8-6f2553bfb9ca": {
     "id": "81c835a9-4d64-4fd7-a3f8-6f2553bfb9ca",
     "prev": "9b4d367d-e4c7-409c-bc7d-4153364e467b",
     "regions": {
      "b48f827e-0e4c-4aca-83b3-9ed129474426": {
       "attrs": {
        "height": 0.8,
        "width": 0.8,
        "x": 0.1,
        "y": 0.1
       },
       "content": {
        "cell": "46b975c1-e993-4e8a-9b07-dd6d33da0547",
        "part": "whole"
       },
       "id": "b48f827e-0e4c-4aca-83b3-9ed129474426"
      }
     }
    },
    "8db3b006-0c9b-4726-b764-7fa7768ab73c": {
     "id": "8db3b006-0c9b-4726-b764-7fa7768ab73c",
     "prev": "e6ad46f2-87cf-4c8e-8531-5ee952c853f6",
     "regions": {
      "3b07cacf-c60a-4277-a790-a56cb0775b2f": {
       "attrs": {
        "height": 0.8,
        "width": 0.8,
        "x": 0.1,
        "y": 0.1
       },
       "content": {
        "cell": "d4e50b90-0baf-4312-b01b-3c2d8c99e535",
        "part": "whole"
       },
       "id": "3b07cacf-c60a-4277-a790-a56cb0775b2f"
      }
     }
    },
    "940bb0c7-1f60-4353-849c-cdb47266193c": {
     "id": "940bb0c7-1f60-4353-849c-cdb47266193c",
     "prev": "f0502308-5757-46e7-b950-dd950acb8e2e",
     "regions": {
      "fa0eff82-9afb-4eae-a421-fae26858bae0": {
       "attrs": {
        "height": 0.8,
        "width": 0.8,
        "x": 0.1,
        "y": 0.1
       },
       "content": {
        "cell": "72ea91e2-0399-4874-bd22-b96bed5d2de4",
        "part": "whole"
       },
       "id": "fa0eff82-9afb-4eae-a421-fae26858bae0"
      }
     }
    },
    "94c42545-cea3-4741-b70c-dc2013a47eec": {
     "id": "94c42545-cea3-4741-b70c-dc2013a47eec",
     "prev": "36a7d65c-2ddd-49a0-a25d-e9f5fe8e2859",
     "regions": {
      "74fe9fb7-0cad-4560-b3d4-c4d181439235": {
       "attrs": {
        "height": 0.8,
        "width": 0.8,
        "x": 0.1,
        "y": 0.1
       },
       "content": {
        "cell": "58d876be-d2c8-4b95-9d5a-f83df4575199",
        "part": "whole"
       },
       "id": "74fe9fb7-0cad-4560-b3d4-c4d181439235"
      }
     }
    },
    "9573350f-e4f9-4558-a9f4-b2c8e525a855": {
     "id": "9573350f-e4f9-4558-a9f4-b2c8e525a855",
     "prev": "589f5c05-a36f-4856-8eda-5c331302d7f7",
     "regions": {
      "4399c997-ec0f-478b-9c61-0dbf4ec43142": {
       "attrs": {
        "height": 0.8,
        "width": 0.8,
        "x": 0.1,
        "y": 0.1
       },
       "content": {
        "cell": "474a3a5c-b0ed-47c8-8e9e-397ce1bd871a",
        "part": "whole"
       },
       "id": "4399c997-ec0f-478b-9c61-0dbf4ec43142"
      }
     }
    },
    "97bc0ff6-bf5a-43ee-b85e-f9af6089b4bb": {
     "id": "97bc0ff6-bf5a-43ee-b85e-f9af6089b4bb",
     "prev": "39256a38-1883-491e-ac4a-e40140651e4d",
     "regions": {
      "1947606e-52c1-4efa-851a-5f8b2cb441bc": {
       "attrs": {
        "height": 0.8,
        "width": 0.8,
        "x": 0.1,
        "y": 0.1
       },
       "content": {
        "cell": "c7f183be-5099-42c2-b433-5709d89a77a2",
        "part": "whole"
       },
       "id": "1947606e-52c1-4efa-851a-5f8b2cb441bc"
      }
     }
    },
    "9b4d367d-e4c7-409c-bc7d-4153364e467b": {
     "id": "9b4d367d-e4c7-409c-bc7d-4153364e467b",
     "prev": "6a9b1fb3-bddd-48a0-98a6-6007d99865ff",
     "regions": {
      "3e2c37ed-3da7-40c7-8050-7cb12d96e294": {
       "attrs": {
        "height": 0.8,
        "width": 0.8,
        "x": 0.1,
        "y": 0.1
       },
       "content": {
        "cell": "84a6beb1-854d-4d1f-a15d-bccbd233d7c7",
        "part": "whole"
       },
       "id": "3e2c37ed-3da7-40c7-8050-7cb12d96e294"
      }
     }
    },
    "a38859b2-030d-424e-8819-f43ed702f402": {
     "id": "a38859b2-030d-424e-8819-f43ed702f402",
     "prev": "3c69648c-1e60-4f5d-a0d4-0c250da4c06e",
     "regions": {
      "61096339-a5cf-470a-b617-e376ad66f3e5": {
       "attrs": {
        "height": 0.8,
        "width": 0.8,
        "x": 0.1,
        "y": 0.1
       },
       "content": {
        "cell": "95b35eea-d02f-4a57-86e5-3e87821c2dc3",
        "part": "whole"
       },
       "id": "61096339-a5cf-470a-b617-e376ad66f3e5"
      }
     }
    },
    "a468cb55-f52b-4f06-b7a9-7c581f06c63f": {
     "id": "a468cb55-f52b-4f06-b7a9-7c581f06c63f",
     "prev": "19e65cb9-7039-47e5-8582-5d59189b333b",
     "regions": {
      "a5045a92-bd5c-49c5-b62b-1200f7de326d": {
       "attrs": {
        "height": 0.8,
        "width": 0.8,
        "x": 0.1,
        "y": 0.1
       },
       "content": {
        "cell": "f00d11a3-5ba3-49d6-b337-45d2506b7792",
        "part": "whole"
       },
       "id": "a5045a92-bd5c-49c5-b62b-1200f7de326d"
      }
     }
    },
    "a8552f82-e781-4956-b822-89acc649f930": {
     "id": "a8552f82-e781-4956-b822-89acc649f930",
     "prev": "0f0dd4db-9f91-4f10-9b39-59633c448a90",
     "regions": {
      "e6fb32f8-894c-461e-b4e5-e56016e6f860": {
       "attrs": {
        "height": 0.8,
        "width": 0.8,
        "x": 0.1,
        "y": 0.1
       },
       "content": {
        "cell": "ecd29568-3922-4ffa-91d6-e6d7a60235ae",
        "part": "whole"
       },
       "id": "e6fb32f8-894c-461e-b4e5-e56016e6f860"
      }
     }
    },
    "ad39996b-06d1-4328-b7c2-9cb1d6d5a1c8": {
     "id": "ad39996b-06d1-4328-b7c2-9cb1d6d5a1c8",
     "prev": "26521fa4-060d-4c67-aa0f-d334dde809b1",
     "regions": {
      "2f827cd0-8242-4846-b57a-7664cf57f498": {
       "attrs": {
        "height": 0.8,
        "width": 0.8,
        "x": 0.1,
        "y": 0.1
       },
       "content": {
        "cell": "5f77fc1c-c2c6-4f48-ac0f-411cd3379a5d",
        "part": "whole"
       },
       "id": "2f827cd0-8242-4846-b57a-7664cf57f498"
      }
     }
    },
    "c7a4d771-0d38-496d-8150-db9c42f9c7fc": {
     "id": "c7a4d771-0d38-496d-8150-db9c42f9c7fc",
     "prev": "94c42545-cea3-4741-b70c-dc2013a47eec",
     "regions": {
      "7ca1419f-d946-4671-9919-cb512cc59617": {
       "attrs": {
        "height": 0.8,
        "width": 0.8,
        "x": 0.1,
        "y": 0.1
       },
       "content": {
        "cell": "c5c26123-d126-4b30-9936-36316f6cdf0d",
        "part": "whole"
       },
       "id": "7ca1419f-d946-4671-9919-cb512cc59617"
      }
     }
    },
    "cbadcdc0-13aa-4638-9d60-6dd5d6f9ae2d": {
     "id": "cbadcdc0-13aa-4638-9d60-6dd5d6f9ae2d",
     "prev": "ea48110c-9c58-46ff-aa9c-b47f554807bf",
     "regions": {
      "185b80f5-5463-4f5b-9793-b39d4fb5bad4": {
       "attrs": {
        "height": 0.8,
        "width": 0.8,
        "x": 0.1,
        "y": 0.1
       },
       "content": {
        "cell": "6a8f7793-28f0-47b5-a31f-2ceb78ef4522",
        "part": "whole"
       },
       "id": "185b80f5-5463-4f5b-9793-b39d4fb5bad4"
      }
     }
    },
    "cc5dbd91-cc53-4c8e-b311-08bbd6992214": {
     "id": "cc5dbd91-cc53-4c8e-b311-08bbd6992214",
     "prev": "e42b0acc-4cf9-431c-afbf-fe6b4406e3a5",
     "regions": {
      "0e0c9372-8f4b-49b2-af98-91c3164c1e2a": {
       "attrs": {
        "height": 0.8,
        "width": 0.8,
        "x": 0.1,
        "y": 0.1
       },
       "content": {
        "cell": "9cfce450-fe8b-4ed9-a1d0-79ad0f3ba0af",
        "part": "whole"
       },
       "id": "0e0c9372-8f4b-49b2-af98-91c3164c1e2a"
      }
     }
    },
    "cd700379-156c-46b6-9e71-f4b4178aac71": {
     "id": "cd700379-156c-46b6-9e71-f4b4178aac71",
     "prev": "07af060a-720d-4244-bf1d-ec360898cb7e",
     "regions": {
      "a5a6ee7a-9f8c-4913-878f-02e870912491": {
       "attrs": {
        "height": 0.8,
        "width": 0.8,
        "x": 0.1,
        "y": 0.1
       },
       "content": {
        "cell": "b4f2dd04-c472-4495-9990-8edeec4891e5",
        "part": "whole"
       },
       "id": "a5a6ee7a-9f8c-4913-878f-02e870912491"
      }
     }
    },
    "dc621cd4-c1b7-4d2c-b2d7-ce3a01a4d5ce": {
     "id": "dc621cd4-c1b7-4d2c-b2d7-ce3a01a4d5ce",
     "prev": "35e160b1-d633-49c0-adbf-fa964587ac8d",
     "regions": {
      "f8a5a430-4380-46b9-8efa-6b0ef5c1264d": {
       "attrs": {
        "height": 0.8,
        "width": 0.8,
        "x": 0.1,
        "y": 0.1
       },
       "content": {
        "cell": "43811285-9a1c-428a-ac74-526b46b985ba",
        "part": "whole"
       },
       "id": "f8a5a430-4380-46b9-8efa-6b0ef5c1264d"
      }
     }
    },
    "e42b0acc-4cf9-431c-afbf-fe6b4406e3a5": {
     "id": "e42b0acc-4cf9-431c-afbf-fe6b4406e3a5",
     "prev": "3aa1a82b-f838-481e-8e72-5828b9db4d8d",
     "regions": {
      "fe36df79-0bd8-4170-aa42-affdf3799a05": {
       "attrs": {
        "height": 0.8,
        "width": 0.8,
        "x": 0.1,
        "y": 0.1
       },
       "content": {
        "cell": "f2a4a658-0d85-4aa0-b4e8-302d03632d8d",
        "part": "whole"
       },
       "id": "fe36df79-0bd8-4170-aa42-affdf3799a05"
      }
     }
    },
    "e6ad46f2-87cf-4c8e-8531-5ee952c853f6": {
     "id": "e6ad46f2-87cf-4c8e-8531-5ee952c853f6",
     "prev": "80aaa0d2-222f-43c8-8188-e24f224397de",
     "regions": {
      "f062c3e5-c256-400f-9091-26914e0cf68a": {
       "attrs": {
        "height": 0.8,
        "width": 0.8,
        "x": 0.1,
        "y": 0.1
       },
       "content": {
        "cell": "01da1598-5299-4d2b-8b2d-f3bf3411c554",
        "part": "whole"
       },
       "id": "f062c3e5-c256-400f-9091-26914e0cf68a"
      }
     }
    },
    "ea48110c-9c58-46ff-aa9c-b47f554807bf": {
     "id": "ea48110c-9c58-46ff-aa9c-b47f554807bf",
     "prev": "a468cb55-f52b-4f06-b7a9-7c581f06c63f",
     "regions": {
      "9ac5c0c0-8558-43d7-ba05-dda586f855b6": {
       "attrs": {
        "height": 0.8,
        "width": 0.8,
        "x": 0.1,
        "y": 0.1
       },
       "content": {
        "cell": "4df0a648-982f-4cac-9107-e7746ffff6c4",
        "part": "whole"
       },
       "id": "9ac5c0c0-8558-43d7-ba05-dda586f855b6"
      }
     }
    },
    "f03c17e8-1fe5-456a-9ff0-c3280339274e": {
     "id": "f03c17e8-1fe5-456a-9ff0-c3280339274e",
     "prev": "1a46a973-94b0-4047-9950-b691c111e2a6",
     "regions": {
      "1e89cbd7-bb50-4a05-a898-49b96538e07a": {
       "attrs": {
        "height": 0.8,
        "width": 0.8,
        "x": 0.1,
        "y": 0.1
       },
       "content": {
        "cell": "daf5ca6b-b772-4a75-b306-e6ef2d87cdfb",
        "part": "whole"
       },
       "id": "1e89cbd7-bb50-4a05-a898-49b96538e07a"
      }
     }
    },
    "f0502308-5757-46e7-b950-dd950acb8e2e": {
     "id": "f0502308-5757-46e7-b950-dd950acb8e2e",
     "prev": "45ba6394-a66c-4084-b1e6-a61ec8e8f1dc",
     "regions": {
      "22c4fedb-a625-42be-ae10-561f25dfc1ef": {
       "attrs": {
        "height": 0.8,
        "width": 0.8,
        "x": 0.1,
        "y": 0.1
       },
       "content": {
        "cell": "b406ee42-1216-43fd-9d64-4abc33beb0e0",
        "part": "whole"
       },
       "id": "22c4fedb-a625-42be-ae10-561f25dfc1ef"
      }
     }
    },
    "fa988421-ef30-4669-a239-16be753922e5": {
     "id": "fa988421-ef30-4669-a239-16be753922e5",
     "prev": "285f9bcc-cf05-48a2-92a2-a840a3a2f524",
     "regions": {
      "673885d2-684d-4fb5-82f9-275494ffb675": {
       "attrs": {
        "height": 0.8,
        "width": 0.8,
        "x": 0.1,
        "y": 0.1
       },
       "content": {
        "cell": "85b62ccf-578f-4b68-a0c3-dd0a85dde801",
        "part": "whole"
       },
       "id": "673885d2-684d-4fb5-82f9-275494ffb675"
      }
     }
    },
    "fff85812-3557-4db5-9228-47f3ae01d228": {
     "id": "fff85812-3557-4db5-9228-47f3ae01d228",
     "prev": "81c835a9-4d64-4fd7-a3f8-6f2553bfb9ca",
     "regions": {
      "79dd6c17-7c4f-40bd-a431-f7dede4ac9f7": {
       "attrs": {
        "height": 0.8,
        "width": 0.8,
        "x": 0.1,
        "y": 0.1
       },
       "content": {
        "cell": "9fc6f5a3-8cb1-42cd-a04f-66ea69e5b7d0",
        "part": "whole"
       },
       "id": "79dd6c17-7c4f-40bd-a431-f7dede4ac9f7"
      }
     }
    }
   },
   "themes": {}
  }
 },
 "nbformat": 4,
 "nbformat_minor": 1
}
