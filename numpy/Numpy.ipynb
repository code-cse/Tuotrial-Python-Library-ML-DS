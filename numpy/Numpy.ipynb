{
 "cells": [
  {
   "cell_type": "markdown",
   "metadata": {},
   "source": [
    "# Numpy"
   ]
  },
  {
   "cell_type": "markdown",
   "metadata": {},
   "source": [
    "Numpy is an extention to python built in objects. It mainly concentrates on multi-dimentional arrays. The main advantages of using numpy are-  \n",
    "1. closer to hardware (efficiency)  \n",
    "2. designed for scientific computation (convenience)\n",
    "\n",
    "To import numpy use following line"
   ]
  },
  {
   "cell_type": "code",
   "execution_count": 1,
   "metadata": {},
   "outputs": [],
   "source": [
    "import numpy as np\n",
    "import matplotlib.pyplot as plt\n",
    "%matplotlib inline  \n"
   ]
  },
  {
   "cell_type": "markdown",
   "metadata": {},
   "source": [
    "\n",
    "\n",
    "## NumPy Reference documentation\n",
    "\n",
    "To get to the reference documentation at any time use the following commands-\n",
    "### Interactive help  \n",
    "This will provide you with a brief infomation about the object or the function. For example by executing the line below you will brief information about numpy arrays function. If you are using idle, you can achieve the same thing using-  \n",
    "**dir(np.array)**\n"
   ]
  },
  {
   "cell_type": "code",
   "execution_count": 2,
   "metadata": {},
   "outputs": [],
   "source": [
    "np.array?"
   ]
  },
  {
   "cell_type": "markdown",
   "metadata": {},
   "source": [
    "### Looking for something  \n",
    "If you want to search the documentation for some keyword, you can use the following style(Use IPython console for this)-"
   ]
  },
  {
   "cell_type": "code",
   "execution_count": 3,
   "metadata": {},
   "outputs": [],
   "source": [
    "# np.lookfor('create array')"
   ]
  },
  {
   "cell_type": "markdown",
   "metadata": {},
   "source": [
    "Don't worry if you can't remember a function name use the following style(**note**: this will only work on Ipython console)-"
   ]
  },
  {
   "cell_type": "code",
   "execution_count": 4,
   "metadata": {},
   "outputs": [],
   "source": [
    "# np.con*?"
   ]
  },
  {
   "cell_type": "markdown",
   "metadata": {},
   "source": [
    "## Creating Arrays  \n",
    "###  Manual Creation-"
   ]
  },
  {
   "cell_type": "code",
   "execution_count": 5,
   "metadata": {},
   "outputs": [
    {
     "name": "stdout",
     "output_type": "stream",
     "text": [
      "a: \n",
      "[1 2 3 4 5 6 7]\n",
      "\n",
      "b: \n",
      "[[[1]\n",
      "  [2]\n",
      "  [3]]\n",
      "\n",
      " [[4]\n",
      "  [5]\n",
      "  [6]]\n",
      "\n",
      " [[7]\n",
      "  [8]\n",
      "  [9]]]\n"
     ]
    }
   ],
   "source": [
    "a = np.array([1,2,3,4,5,6,7])                              # One dimentional array\n",
    "b = np.array([[[1],[2],[3]],[[4],[5],[6]],[[7],[8],[9]]])  # Three dimentional array\n",
    "\n",
    "# printing both arrays out\n",
    "\n",
    "print('a: \\n{}\\n'.format(a))                             \n",
    "print('b: \\n{}'.format(b))"
   ]
  },
  {
   "cell_type": "markdown",
   "metadata": {},
   "source": [
    "* To check the shape and dimention of the array  "
   ]
  },
  {
   "cell_type": "code",
   "execution_count": 6,
   "metadata": {},
   "outputs": [
    {
     "name": "stdout",
     "output_type": "stream",
     "text": [
      "a.shape: (7,)  b.shape: (3, 3, 1)  b.ndim: 3\n"
     ]
    }
   ],
   "source": [
    "#shape gives dimention and ndim gives number of dimentions\n",
    "print('a.shape: {}  b.shape: {}  b.ndim: {}'.format(a.shape, b.shape, b.ndim)) "
   ]
  },
  {
   "cell_type": "markdown",
   "metadata": {},
   "source": [
    "### Automatic Creation-"
   ]
  },
  {
   "cell_type": "code",
   "execution_count": 7,
   "metadata": {},
   "outputs": [
    {
     "name": "stdout",
     "output_type": "stream",
     "text": [
      "Array: [0 1 2 3 4 5 6 7 8 9]\n"
     ]
    }
   ],
   "source": [
    "print('Array: {}'.format(np.arange(10)))                        # creates array from 0 .. n-1"
   ]
  },
  {
   "cell_type": "code",
   "execution_count": 8,
   "metadata": {},
   "outputs": [
    {
     "name": "stdout",
     "output_type": "stream",
     "text": [
      "Array: [1 3 5 7]\n"
     ]
    }
   ],
   "source": [
    "print('Array: {}'.format(np.arange(1, 9, 2)))                   # start, end (exclusive), step"
   ]
  },
  {
   "cell_type": "code",
   "execution_count": 9,
   "metadata": {},
   "outputs": [
    {
     "name": "stdout",
     "output_type": "stream",
     "text": [
      "Array: [0.  0.2 0.4 0.6 0.8 1. ]\n"
     ]
    }
   ],
   "source": [
    "print('Array: {}'.format(np.linspace(0, 1, 6)))                 # start, end, num-points generated including start and end"
   ]
  },
  {
   "cell_type": "code",
   "execution_count": 10,
   "metadata": {},
   "outputs": [
    {
     "name": "stdout",
     "output_type": "stream",
     "text": [
      "Array: [0.  0.2 0.4 0.6 0.8]\n"
     ]
    }
   ],
   "source": [
    "print('Array: {}'.format(np.linspace(0, 1, 5, endpoint=False)))                  # to not include the end point"
   ]
  },
  {
   "cell_type": "code",
   "execution_count": 11,
   "metadata": {},
   "outputs": [
    {
     "name": "stdout",
     "output_type": "stream",
     "text": [
      "Array: \n",
      "[[1. 1. 1.]\n",
      " [1. 1. 1.]\n",
      " [1. 1. 1.]]\n"
     ]
    }
   ],
   "source": [
    "print('Array: \\n{}'.format(np.ones((3, 3))))          # Creates an array of ones of given dimention and reminder (3, 3) is a tuple"
   ]
  },
  {
   "cell_type": "code",
   "execution_count": 12,
   "metadata": {},
   "outputs": [
    {
     "name": "stdout",
     "output_type": "stream",
     "text": [
      "Array: \n",
      "[[0. 0.]\n",
      " [0. 0.]]\n"
     ]
    }
   ],
   "source": [
    "print('Array: \\n{}'.format(np.zeros((2, 2))))           # Creates a zero array of the given dimention"
   ]
  },
  {
   "cell_type": "code",
   "execution_count": 13,
   "metadata": {},
   "outputs": [
    {
     "name": "stdout",
     "output_type": "stream",
     "text": [
      "[[7 7 7 7]\n",
      " [7 7 7 7]]\n"
     ]
    }
   ],
   "source": [
    "print(np.full((2,4),7))                                 # To create a constant array with value mentioned as second argument)"
   ]
  },
  {
   "cell_type": "code",
   "execution_count": 14,
   "metadata": {},
   "outputs": [
    {
     "name": "stdout",
     "output_type": "stream",
     "text": [
      "Array: \n",
      "[[1. 0. 0.]\n",
      " [0. 1. 0.]\n",
      " [0. 0. 1.]]\n"
     ]
    }
   ],
   "source": [
    "print('Array: \\n{}'.format(np.eye(3)))                                           # Creates a identity matrix of given dimention"
   ]
  },
  {
   "cell_type": "code",
   "execution_count": 15,
   "metadata": {},
   "outputs": [
    {
     "name": "stdout",
     "output_type": "stream",
     "text": [
      "Array: \n",
      "[[1 0 0 0]\n",
      " [0 7 0 0]\n",
      " [0 0 3 0]\n",
      " [0 0 0 4]]\n"
     ]
    }
   ],
   "source": [
    "print('Array: \\n{}'.format(np.diag(np.array([1, 7, 3, 4]))))                     # Creating a matrix with diagonal elements as given below"
   ]
  },
  {
   "cell_type": "code",
   "execution_count": 16,
   "metadata": {},
   "outputs": [
    {
     "name": "stdout",
     "output_type": "stream",
     "text": [
      "[[0 1 2]\n",
      " [3 4 5]\n",
      " [6 7 8]]\n",
      "[0 4 8] [1 5] [3 7]\n"
     ]
    }
   ],
   "source": [
    "# np.diag can also be used to get diagonal elements of an array. The positive values for k denotes diagonal to the right side\n",
    "# of the principle diagonal and negative values denote diagonal left to the principle diagonal. follow the following example-\n",
    "a = np.arange(9).reshape((3,3))\n",
    "print a \n",
    "print np.diag(a),np.diag(a, k=1),np.diag(a, k=-1)"
   ]
  },
  {
   "cell_type": "code",
   "execution_count": 17,
   "metadata": {},
   "outputs": [
    {
     "name": "stdout",
     "output_type": "stream",
     "text": [
      "Array: [0.8257649  0.7722305  0.03339743 0.36242672]\n"
     ]
    }
   ],
   "source": [
    "print('Array: {}'.format(np.random.rand(4)))                              # gives out four random number uniform in range [0, 1]"
   ]
  },
  {
   "cell_type": "code",
   "execution_count": 18,
   "metadata": {},
   "outputs": [
    {
     "name": "stdout",
     "output_type": "stream",
     "text": [
      "Array: [0.24493606 1.07065357 0.38276281 0.14977444]\n"
     ]
    }
   ],
   "source": [
    "print('Array: {}'.format(np.random.randn(4)))                                  # gives out four random number according to Gaussian distribution in [0,1]"
   ]
  },
  {
   "cell_type": "code",
   "execution_count": 19,
   "metadata": {},
   "outputs": [
    {
     "name": "stdout",
     "output_type": "stream",
     "text": [
      "Array: \n",
      "[[90  2 25 96]\n",
      " [72 48 28 16]\n",
      " [98 35 73 89]\n",
      " [57 66 44 81]\n",
      " [36 81 21 47]\n",
      " [69 80 97 33]\n",
      " [74 71 68 25]\n",
      " [81 89 80 79]\n",
      " [46 33  1 78]\n",
      " [42  2 27 59]\n",
      " [ 3 76 88  6]\n",
      " [ 2 20 14 75]\n",
      " [40 73 96 75]\n",
      " [79 95  0 90]\n",
      " [73 31 54 16]\n",
      " [41 45 12 86]\n",
      " [54 23 98 10]\n",
      " [ 6 59  0 81]\n",
      " [98 10 29 36]\n",
      " [34 65 15 51]\n",
      " [74 52 10 35]\n",
      " [26 61 97 82]\n",
      " [36 52 14 54]]\n"
     ]
    }
   ],
   "source": [
    "print('Array: \\n{}'.format(np.random.randint(0,100,(23,4))))                     # It will generate a 23x4 matrix with random values in range[0,100) "
   ]
  },
  {
   "cell_type": "code",
   "execution_count": 20,
   "metadata": {},
   "outputs": [],
   "source": [
    "np.random.seed(1234)                                # Setting the random seed for contant random number generation "
   ]
  },
  {
   "cell_type": "markdown",
   "metadata": {},
   "source": [
    "* Numpy supports a lot of different data types and a detailed list of these is given below-"
   ]
  },
  {
   "cell_type": "markdown",
   "metadata": {},
   "source": [
    "![Data types in numpy](images/data-type.png)"
   ]
  },
  {
   "cell_type": "markdown",
   "metadata": {
    "collapsed": true
   },
   "source": [
    "## Indexing and slicing\n",
    "Numpy arrays can be accessed in same way as python lists."
   ]
  },
  {
   "cell_type": "code",
   "execution_count": 21,
   "metadata": {},
   "outputs": [
    {
     "name": "stdout",
     "output_type": "stream",
     "text": [
      "vector a: [0 1 2 3 4 5 6 7 8 9]\n",
      "a[0]:0 , a[2]:2 , a[-1]:9\n"
     ]
    }
   ],
   "source": [
    "a = np.arange(10)\n",
    "print('vector a: {}'.format(a)) \n",
    "print('a[0]:{} , a[2]:{} , a[-1]:{}'.format(a[0], a[2], a[-1]))"
   ]
  },
  {
   "cell_type": "markdown",
   "metadata": {},
   "source": [
    "To create a list from existing list instead of selecting every thing manually like **np.array([a[0,0],a[1,1],a[2,0]])** you can also use **a[[0,1,2],[0,1,0]]** which allows us to more creative while extracting values"
   ]
  },
  {
   "cell_type": "code",
   "execution_count": 22,
   "metadata": {},
   "outputs": [
    {
     "name": "stdout",
     "output_type": "stream",
     "text": [
      "matrix a:\n",
      " [[0 1]\n",
      " [2 3]\n",
      " [4 5]]\n",
      "\n",
      "np.array([a[0,0],a[1,1],a[2,0]]) : [0 3 4]\n",
      "a[[0,1,2],[0,1,0]]               : [0 3 4]\n",
      "\n",
      "vector b: [0 1 0]\n",
      "a[np.arange(3),b]                : [0 3 4]\n"
     ]
    }
   ],
   "source": [
    "a = np.arange(6).reshape(3,2)\n",
    "print('matrix a:\\n {}\\n'.format(a))\n",
    "\n",
    "print('np.array([a[0,0],a[1,1],a[2,0]]) : {}'.format(np.array([a[0,0],a[1,1],a[2,0]])))\n",
    "print('a[[0,1,2],[0,1,0]]               : {}'.format(a[[0,1,2],[0,1,0]]))\n",
    "\n",
    "# The second format lets us to be more creative in term of what we can do\n",
    "b = np.array([0,1,0])\n",
    "print('\\nvector b: {}'.format(b))\n",
    "print('a[np.arange(3),b]                : {}'.format(a[np.arange(3),b]))"
   ]
  },
  {
   "cell_type": "code",
   "execution_count": 23,
   "metadata": {},
   "outputs": [
    {
     "name": "stdout",
     "output_type": "stream",
     "text": [
      "a:\n",
      "[[0 0 0]\n",
      " [0 1 0]\n",
      " [0 0 2]]\n",
      "a:\n",
      "[[ 0  0  0]\n",
      " [ 0  1  0]\n",
      " [ 0 10  2]]\n"
     ]
    }
   ],
   "source": [
    "# array elements can also be accessed by using , for successive indexes  \n",
    "a = np.diag(np.arange(3))\n",
    "print('a:\\n{}'.format(a))\n",
    "a[2, 1] = 10                                      # Note how comma(,) opeator is used to refer to third line, second column\n",
    "print('a:\\n{}'.format(a))                          "
   ]
  },
  {
   "cell_type": "code",
   "execution_count": 24,
   "metadata": {},
   "outputs": [
    {
     "name": "stdout",
     "output_type": "stream",
     "text": [
      "a:        [0 1 2 3 4 5 6 7 8 9]\n",
      "a[2:9:3]: [2 3 4 5 6 7 8]\n",
      "a[2:9:3]: [9 8 7 6 5 4 3]\n"
     ]
    }
   ],
   "source": [
    "# We can use colon(:) operator to slice a array to get a certian part\n",
    "# Note: end is not included in slicing\n",
    "a = np.arange(10)\n",
    "print('a:        {}'.format(a))\n",
    "print('a[2:9:3]: {}'.format(a[2:9]))                    # [start:end:step]\n",
    "print('a[2:9:3]: {}'.format(a[9:2:-1]))                 # for reversing the sliced list,as negative sign in step indicates\n",
    "                                                        # direction of traversal"
   ]
  },
  {
   "cell_type": "markdown",
   "metadata": {},
   "source": [
    "![Numpy Indexing](images/small-numpy-indexing.png)"
   ]
  },
  {
   "cell_type": "markdown",
   "metadata": {
    "collapsed": true
   },
   "source": [
    "## Copies and views\n",
    "A slicing operation creates a view on the original array, which is just a way of accessing array data. Thus the original array is not copied in memory. "
   ]
  },
  {
   "cell_type": "code",
   "execution_count": 25,
   "metadata": {},
   "outputs": [
    {
     "name": "stdout",
     "output_type": "stream",
     "text": [
      "a:\n",
      "[[1. 1. 1.]\n",
      " [1. 1. 1.]\n",
      " [1. 1. 1.]]\n",
      "a and b belonging to same memory: True\n",
      "c:\n",
      "[[1. 1.]\n",
      " [1. 1.]\n",
      " [1. 1.]]\n",
      "a and c belonging to same memory: False\n"
     ]
    }
   ],
   "source": [
    "a = np.ones((3,3))\n",
    "print('a:\\n{}'.format(a))\n",
    "b = a[1:2,1:2]            # Any changes made in b will also get reflected in the original array a\n",
    "\n",
    "# np.may_share_memory(a,b) Function can be used to check if the two arrays share same memory or not.(Return type 'bool')\n",
    "print('a and b belonging to same memory: {}'.format(np.may_share_memory(a,b)))  \n",
    "\n",
    "c = a[:,:2].copy()        # This will force a copy operation and any changes in c will not be reflected in a \n",
    "print('c:\\n{}'.format(c))\n",
    "print('a and c belonging to same memory: {}'.format(np.may_share_memory(a,c)))"
   ]
  },
  {
   "cell_type": "markdown",
   "metadata": {},
   "source": [
    "## Fancy indexing\n",
    "NumPy arrays can be indexed with slices, but also with boolean or integer arrays (masks). This method is called fancy indexing. It creates copies not views. One of the method is **Using boolean masks**.\n"
   ]
  },
  {
   "cell_type": "code",
   "execution_count": 26,
   "metadata": {},
   "outputs": [
    {
     "name": "stdout",
     "output_type": "stream",
     "text": [
      "a:\n",
      "[[1. 1.]\n",
      " [1. 1.]\n",
      " [1. 1.]]\n"
     ]
    },
    {
     "data": {
      "text/plain": [
       "array([57, 75, 42, 39, 21, 45, 15, 27,  3])"
      ]
     },
     "execution_count": 26,
     "metadata": {},
     "output_type": "execute_result"
    }
   ],
   "source": [
    "np.random.seed(3)                      # Seed() is used to generate reproducible random set of numbers without seed everytime we \n",
    "                                       # run this particular statement a new set of random numbers will be generated\n",
    "a = np.random.randint(1,100,(25,))\n",
    "print('a:\\n{}'.format(c))\n",
    "mask = a%3 == 0                         # mask here is boolean matrix with same dimentions as matrix a conataining True for \n",
    "                                        # elements satisfying mentioned condition(a%3 == 0) and False everywhere else \n",
    "extMatrix = a[mask]                     # Hence we have successfully extracted all the value divisible by 3(mentioned condition) \n",
    "extMatrix"
   ]
  },
  {
   "cell_type": "markdown",
   "metadata": {},
   "source": [
    "We can also perform simultaneous assignment using this fancy indexing. Run the code below multiple times to see what happens when we dont use seed()."
   ]
  },
  {
   "cell_type": "code",
   "execution_count": 27,
   "metadata": {},
   "outputs": [
    {
     "name": "stdout",
     "output_type": "stream",
     "text": [
      "Before assignment a: [61  2 52 91 70 98 30 25 63  8 44 34 80 49 38 21 95 50 22 79 29 55  1 65\n",
      " 19]\n",
      "After assignment  a: [61  2 52 91 70 98 -1 25 -1  8 44 34 80 49 38 -1 95 50 22 79 29 55  1 65\n",
      " 19]\n"
     ]
    }
   ],
   "source": [
    "a = np.random.randint(1,100,(25,))\n",
    "print('Before assignment a: {}'.format(a))\n",
    "a[a%3 ==0] = -1                                # Here we have simultaneously performed extraction and assignment \n",
    "print('After assignment  a: {}'.format(a))"
   ]
  },
  {
   "cell_type": "markdown",
   "metadata": {},
   "source": [
    "## Elementwise operations\n",
    "### Basic operations\n",
    "When performimg basic operations like addition, multiplication,division etc. all these operations are performed element wise "
   ]
  },
  {
   "cell_type": "code",
   "execution_count": 28,
   "metadata": {},
   "outputs": [
    {
     "name": "stdout",
     "output_type": "stream",
     "text": [
      "a     : [0 1 2 3 4]\n",
      "a + 1 : [1 2 3 4 5]\n",
      "2**a  : [ 1  2  4  8 16]\n",
      "b     : [2. 2. 2. 2. 2.]\n",
      "a-b   : [-2. -1.  0.  1.  2.]\n",
      "\n",
      "One important distinction should be made here that normal multiplication is not typical matrix multiplication\n",
      "\n",
      "c: \n",
      "[[1. 1. 1.]\n",
      " [1. 1. 1.]\n",
      " [1. 1. 1.]]\n",
      "\n",
      "c * c: \n",
      "[[1. 1. 1.]\n",
      " [1. 1. 1.]\n",
      " [1. 1. 1.]]\n",
      "\n",
      "For matrix multiplication use dot() function\n",
      "\n",
      "c.dot(c): \n",
      "[[3. 3. 3.]\n",
      " [3. 3. 3.]\n",
      " [3. 3. 3.]]\n"
     ]
    }
   ],
   "source": [
    "a = np.arange(5)                                         # an numpy array with five elements\n",
    "print('a     : {}'.format(a))                            # print the array\n",
    "print('a + 1 : {}'.format(a+1))                          # addition with scalar is elementwise\n",
    "print('2**a  : {}'.format(2**a))\n",
    "b = np.ones(5) + 1\n",
    "print('b     : {}'.format(b))\n",
    "print('a-b   : {}'.format(a-b))                          # this operation is also elementwise like all other operations\n",
    "\n",
    "c = np.ones((3,3))\n",
    "print('\\nOne important distinction should be made here that normal multiplication is not typical matrix multiplication\\n')\n",
    "print('c: \\n{}'.format(c))\n",
    "print('\\nc * c: \\n{}'.format(c*c))\n",
    "print('\\nFor matrix multiplication use dot() function\\n')\n",
    "print('c.dot(c): \\n{}'.format(c.dot(c)))"
   ]
  },
  {
   "cell_type": "markdown",
   "metadata": {},
   "source": [
    "We can also extract non-zero elements from an NumPy array using function np.nonzero. Check out the following example-"
   ]
  },
  {
   "cell_type": "code",
   "execution_count": 29,
   "metadata": {},
   "outputs": [
    {
     "name": "stdout",
     "output_type": "stream",
     "text": [
      "Index of non-zero elements: (array([0, 1, 2]), array([0, 1, 2]))\n",
      "All the non-zero elements : [1. 1. 1.]\n"
     ]
    }
   ],
   "source": [
    "# Return the indices of the elements that are non-zero.\n",
    "x = np.eye(3)                                                        # returns anidentity matrix with size 3 X 3\n",
    "print('Index of non-zero elements: {}'.format(np.nonzero(x)))        # tuple of indexs                                    \n",
    "print('All the non-zero elements : {}'.format(x[np.nonzero(x)]))     # All non-zero element"
   ]
  },
  {
   "cell_type": "markdown",
   "metadata": {},
   "source": [
    "### Comparision operations\n",
    "We have comparision operations for both array level and element level. Let's see how these two operation works -"
   ]
  },
  {
   "cell_type": "code",
   "execution_count": 30,
   "metadata": {},
   "outputs": [
    {
     "name": "stdout",
     "output_type": "stream",
     "text": [
      "For elementwise comaprision a == b : [ True  True False False]\n",
      "For elementwise comaprision a > b  : [False False  True  True]\n",
      "For full array comparision [ np.array_equal(a,b) ]     : False\n",
      "For full array comparision [ np.array_equal(a,c) ]     : True\n"
     ]
    }
   ],
   "source": [
    "a = np.array([1,2,3,4])\n",
    "b = np.array([1,2,2,3])\n",
    "c = np.array([1,2,3,4])\n",
    "print('For elementwise comaprision a == b : {}'.format(a == b))    # for elementwise comparision between two arrays\n",
    "print('For elementwise comaprision a > b  : {}'.format(a > b))     # for elementwise comaprision a > b\n",
    "print('For full array comparision [ np.array_equal(a,b) ]     : {}'.format(np.array_equal(a,b)))\n",
    "print('For full array comparision [ np.array_equal(a,c) ]     : {}'.format(np.array_equal(a,c)))"
   ]
  },
  {
   "cell_type": "markdown",
   "metadata": {},
   "source": [
    "### Loigcal operations\n",
    "We can perform all kind of logical operations on two arrays. Lets understand how -"
   ]
  },
  {
   "cell_type": "code",
   "execution_count": 31,
   "metadata": {},
   "outputs": [
    {
     "name": "stdout",
     "output_type": "stream",
     "text": [
      "OR operation  : [ True  True  True False]\n",
      "AND operation : [ True False False False]\n",
      "AND operation : [ True  True False False]\n",
      "bitwises AND operation  : [0 0 0 0]\n",
      "bitwises OR operation   : [6 3 7 0]\n",
      "bitwises XOR operation  : [6 3 7 0]\n"
     ]
    }
   ],
   "source": [
    "a = np.array([1, 1, 0, 0])                                            # boolean arrays\n",
    "b = np.array([1, 0, 1, 0])                                            \n",
    "print('OR operation  : {}'.format(np.logical_or(a,b)))                # logical OR operation \n",
    "print('AND operation : {}'.format(np.logical_and(a, b)))              # logical AND operation\n",
    "print('AND operation : {}'.format(np.logical_and(a, 1)))              # operation can also be performed with a scalar quantity\n",
    "\n",
    "# We can also perform bitwise operations-\n",
    "a = np.array([4, 3, 0, 0])                                            # numpy arrays\n",
    "b = np.array([2, 0, 7, 0])\n",
    "print('bitwises AND operation  : {}'.format(np.bitwise_and(a, b)))\n",
    "print('bitwises OR operation   : {}'.format(np.bitwise_or(a, b)))\n",
    "print('bitwises XOR operation  : {}'.format(np.bitwise_xor(a, b)))"
   ]
  },
  {
   "cell_type": "markdown",
   "metadata": {},
   "source": [
    "You can also perform all kinds of mathematical operations"
   ]
  },
  {
   "cell_type": "code",
   "execution_count": 32,
   "metadata": {},
   "outputs": [
    {
     "name": "stdout",
     "output_type": "stream",
     "text": [
      "Elementwise sine operation: [ 0.84147098  0.90929743  0.14112001 -0.7568025  -0.95892427]\n",
      "Elementwise sine operation: [0.         0.69314718 1.09861229 1.38629436 1.60943791]\n",
      "Elementwise sine operation: [  2.71828183   7.3890561   20.08553692  54.59815003 148.4131591 ]\n"
     ]
    }
   ],
   "source": [
    "a = np.arange(5) + 1\n",
    "print('Elementwise sine operation: {}'.format(np.sin(a)))             # sine operation performed on every element\n",
    "print('Elementwise sine operation: {}'.format(np.log(a)))             # log operation performed on every element\n",
    "print('Elementwise sine operation: {}'.format(np.exp(a)))             # exponential operation performed on every element"
   ]
  },
  {
   "cell_type": "markdown",
   "metadata": {},
   "source": [
    "Transpose of any matrix can be easily canculated using following the following notation. But take caution while making changes to transposed matrix as its a view into the original matrix any changes in transposed matrix will also get reflected in original matrix as they share memory.  \n",
    "\n",
    "But when it comes to taking transpose and determinantes of larger matrices, the numpy library functions fails miserably, so it is highly recommended that you use [scipy.linalg](http://www.scipy-lectures.org/intro/scipy.html#scipy-linalg) library when it comes to linear algebra."
   ]
  },
  {
   "cell_type": "code",
   "execution_count": 33,
   "metadata": {},
   "outputs": [
    {
     "name": "stdout",
     "output_type": "stream",
     "text": [
      "a: \n",
      "[[ 0  1  2  3  4]\n",
      " [ 5  6  7  8  9]\n",
      " [10 11 12 13 14]\n",
      " [15 16 17 18 19]\n",
      " [20 21 22 23 24]]\n",
      "\n",
      "Tranpose of a:\n",
      "[[ 0  5 10 15 20]\n",
      " [ 1  6 11 16 21]\n",
      " [ 2  7 12 17 22]\n",
      " [ 3  8 13 18 23]\n",
      " [ 4  9 14 19 24]]\n",
      "\n",
      "Determinent of a: -2.0\n",
      "\n",
      "Inverse of a: \n",
      "[[-2.   1. ]\n",
      " [ 1.5 -0.5]]\n",
      "\n",
      "Upper triangle :\n",
      "[[ 0  1  2  3  4]\n",
      " [ 0  6  7  8  9]\n",
      " [ 0  0 12 13 14]\n",
      " [ 0  0  0 18 19]\n",
      " [ 0  0  0  0 24]]\n",
      "\n",
      "Lower triangle :\n",
      "[[ 0  0  0  0  0]\n",
      " [ 5  6  0  0  0]\n",
      " [10 11 12  0  0]\n",
      " [15 16 17 18  0]\n",
      " [20 21 22 23 24]]\n"
     ]
    }
   ],
   "source": [
    "a = np.arange(25).reshape(5,5)\n",
    "print('a: \\n{}'.format(a))\n",
    "print('\\nTranpose of a:\\n{}'.format(a.T))                             # Taking transpose of the matrix a.T\n",
    " \n",
    "# The following code demostrates the fact that transpose is a view into original matrix- \n",
    "#a.T[0,0] = 12\n",
    "#print('a: \\n{}'.format(a))\n",
    "\n",
    "from scipy import linalg\n",
    "arr = np.array([[1, 2],[3, 4]])\n",
    "print('\\nDeterminent of a: {}'.format(linalg.det(arr)))              # Calculating determinent \n",
    "print('\\nInverse of a: \\n{}'.format(linalg.inv(arr)))                # Calculating inverse\n",
    "\n",
    "# To extract upper or lower triangle of an matrix-\n",
    "print('\\nUpper triangle :\\n{}'.format(np.triu(a, 0)))                # return everything above diagonal 0\n",
    "print('\\nLower triangle :\\n{}'.format(np.tril(a, 0)))                # return everything below diagonal 0"
   ]
  },
  {
   "cell_type": "markdown",
   "metadata": {},
   "source": [
    "### Computing sums\n",
    "Sum can be easily calculated using the sum function and it can be done in different axis. The following image and examples will make things much more clearer. Observe the image carefully and understand the different axis-  \n",
    "Axis 1 - Row wise sum  \n",
    "Axis 2 - Column wise sum  \n",
    "<pre>   :  \n",
    "   :</pre> Axis N - N dimension sum  \n",
    "\n",
    "![Sum function](images/sum.png)"
   ]
  },
  {
   "cell_type": "code",
   "execution_count": 34,
   "metadata": {},
   "outputs": [
    {
     "name": "stdout",
     "output_type": "stream",
     "text": [
      "a :\n",
      "[[1 1]\n",
      " [2 2]]\n",
      "\n",
      "Sum along axis-0 : [3 3]\n",
      "Sum along axis-1 : [2 4]\n"
     ]
    }
   ],
   "source": [
    "a = np.array([[1,1],[2,2]])\n",
    "print('a :\\n{}'.format(a))\n",
    "print('\\nSum along axis-0 : {}'.format(np.sum(a,axis=0)))           # Column wise sum \n",
    "print('Sum along axis-1 : {}'.format(np.sum(a,axis=1)))             # Row wise sum"
   ]
  },
  {
   "cell_type": "markdown",
   "metadata": {},
   "source": [
    "Now lets observe the same example with a three dimentional matrix-"
   ]
  },
  {
   "cell_type": "code",
   "execution_count": 35,
   "metadata": {},
   "outputs": [
    {
     "name": "stdout",
     "output_type": "stream",
     "text": [
      "[[[3 0 1]\n",
      "  [0 4 3]\n",
      "  [0 0 4]]\n",
      "\n",
      " [[1 0 3]\n",
      "  [4 3 1]\n",
      "  [4 2 1]]\n",
      "\n",
      " [[1 2 1]\n",
      "  [1 1 2]\n",
      "  [0 2 0]]]\n",
      "\n",
      "Sum along axis-0 :\n",
      " [[5 2 5]\n",
      " [5 8 6]\n",
      " [4 4 5]]\n",
      "Sum along axis-1 :\n",
      " [[3 4 8]\n",
      " [9 5 5]\n",
      " [2 5 3]]\n",
      "Sum along axis-2 :\n",
      " [[4 7 4]\n",
      " [4 8 7]\n",
      " [4 4 2]]\n"
     ]
    }
   ],
   "source": [
    "np.random.seed(5)\n",
    "a = np.random.randint(0,5,(3,3,3))\n",
    "print a\n",
    "print('\\nSum along axis-0 :\\n {}'.format(np.sum(a,axis=0)))         \n",
    "print('Sum along axis-1 :\\n {}'.format(np.sum(a,axis=1)))\n",
    "print('Sum along axis-2 :\\n {}'.format(np.sum(a,axis=2)))           # Sum along the thrird axis "
   ]
  },
  {
   "cell_type": "markdown",
   "metadata": {},
   "source": [
    "### Other reductions\n",
    "In the following examples we can use axis concept that we learnt earlier to make other kind of reductions. First lets see some basic reductions like min and max. Look at the following examples carefully-\n",
    "#### Extrema:"
   ]
  },
  {
   "cell_type": "code",
   "execution_count": 36,
   "metadata": {},
   "outputs": [
    {
     "name": "stdout",
     "output_type": "stream",
     "text": [
      "mininum value: [1 3 0]\n",
      "maximum value: [3 6]\n",
      "index of mininum value: [0 0 1]\n",
      "index of maximum value: [1 1]\n"
     ]
    }
   ],
   "source": [
    "x = np.array([[1, 3, 2],[4,6,0]])\n",
    "print('mininum value: {}'.format(x.min(axis=0)))                # Minimum value along column\n",
    "print('maximum value: {}'.format(x.max(axis=1)))                # Maximum value along row\n",
    "print('index of mininum value: {}'.format(x.argmin(axis=0)))    # Index of the minimal value along the axis-0\n",
    "print('index of maximum value: {}'.format(x.argmax(axis=1)))    # Index of maximum value along axis-1"
   ]
  },
  {
   "cell_type": "markdown",
   "metadata": {},
   "source": [
    "#### Logical operations:\n",
    "These operations are different than logical operations that we performed earlier, as they operated on two different arrays and this one works on a single array along all posible axis-  \n",
    "* all &nbsp;&nbsp;- It is an AND operation among all the involved elements  \n",
    "* any - It is an OR operation among all the involved elements"
   ]
  },
  {
   "cell_type": "code",
   "execution_count": 37,
   "metadata": {},
   "outputs": [
    {
     "name": "stdout",
     "output_type": "stream",
     "text": [
      "The logical conclusion all:[True,True,False] -> False\n",
      "The logical conclusion any:[True,True,False] -> True\n"
     ]
    }
   ],
   "source": [
    "# all:[True, True, False] -> False\n",
    "print('The logical conclusion all:[True,True,False] -> {}'.format(np.all([True, True, False])))\n",
    "\n",
    "# any:[True, True, False] -> True\n",
    "print('The logical conclusion any:[True,True,False] -> {}'.format(np.any([True, True, False])))"
   ]
  },
  {
   "cell_type": "markdown",
   "metadata": {},
   "source": [
    "#### Statistics:\n",
    "We can use statistical functions for data analysis. We have inbuilt functions for calculating average, mean, variance, standard deviation, mode, median, max, min, percentile and much more. Check out this [link]( https://docs.scipy.org/doc/numpy/reference/routines.statistics.html ) to get detailed information about all of them from NumPy documentation. Here we will describe few to them to give the idea how it is done."
   ]
  },
  {
   "cell_type": "code",
   "execution_count": 38,
   "metadata": {},
   "outputs": [
    {
     "name": "stdout",
     "output_type": "stream",
     "text": [
      "Mean(x)  : 1.75\n",
      "Median(x): 1.5\n",
      "Median(y) along axis(-1): [2. 5.]\n",
      "Standard deviation(x)   : 0.829156197589\n"
     ]
    }
   ],
   "source": [
    "x = np.array([1, 2, 3, 1])\n",
    "y = np.array([[1, 2, 3], [5, 6, 1]])\n",
    "print('Mean(x)  : {}'.format(x.mean()))                                       # Calculating Mean\n",
    "print('Median(x): {}'.format(np.median(x)))                                   # Calculating Median\n",
    "print('Median(y) along axis(-1): {}'.format(np.median(y, axis=-1) ))          # Calculating Median along an axis \n",
    "                                                                              # negative sign means axis is selected from last\n",
    "print('Standard deviation(x)   : {}'.format(x.std()))                         # Calculating Standard Deviation"
   ]
  },
  {
   "cell_type": "markdown",
   "metadata": {},
   "source": [
    "## Broadcasting\n",
    "Basic operations on numpy arrays (addition, multiplication etc.) are elementwise but, It’s also possible to do operations on arrays of different sizes if NumPy can transform these arrays so that they all have the same size: this conversion is called **broadcasting**. The following image explains this concept well - \n",
    "![Numpy Broadcasting](Images/numpy-broadcasting.png)\n",
    "\n",
    "Check out the two following codes- "
   ]
  },
  {
   "cell_type": "code",
   "execution_count": 39,
   "metadata": {},
   "outputs": [
    {
     "name": "stdout",
     "output_type": "stream",
     "text": [
      "a : \n",
      "[[ 0  0  0]\n",
      " [10 10 10]\n",
      " [20 20 20]\n",
      " [30 30 30]]\n",
      "\n",
      "b : [0 1 2]\n",
      "\n",
      "c : \n",
      "[[ 0  1  2]\n",
      " [10 11 12]\n",
      " [20 21 22]\n",
      " [30 31 32]]\n"
     ]
    }
   ],
   "source": [
    "a = np.tile(np.arange(0, 40,10), (3, 1)).T    # Create a one dimentional array with arange() and then tiling it three times \n",
    "                                              # over it along axis-0 and then taking its transpose\n",
    "b = np.array([0, 1, 2])\n",
    "c = a + b                                     # Using broadcasting we are adding a 4 X 3 matrix to 1 X 3 matrix \n",
    "print('a : \\n{}\\n'.format(a))\n",
    "print('b : {}\\n'.format(b))\n",
    "print('c : \\n{}'.format(c))"
   ]
  },
  {
   "cell_type": "code",
   "execution_count": 40,
   "metadata": {},
   "outputs": [
    {
     "name": "stdout",
     "output_type": "stream",
     "text": [
      "a : \n",
      "[[1. 1. 1. 1. 1.]\n",
      " [1. 1. 1. 1. 1.]\n",
      " [1. 1. 1. 1. 1.]\n",
      " [1. 1. 1. 1. 1.]]\n",
      "\n",
      "a : \n",
      "[[2. 2. 2. 2. 2.]\n",
      " [1. 1. 1. 1. 1.]\n",
      " [1. 1. 1. 1. 1.]\n",
      " [1. 1. 1. 1. 1.]]\n",
      "\n"
     ]
    }
   ],
   "source": [
    "a = np.ones((4, 5))                                   # creating a ones array with dimention 4 X 5\n",
    "print('a : \\n{}\\n'.format(a))\n",
    "a[0] = 2                                              # Using broadcasting to assign values \n",
    "print('a : \\n{}\\n'.format(a))"
   ]
  },
  {
   "cell_type": "code",
   "execution_count": 41,
   "metadata": {},
   "outputs": [
    {
     "name": "stdout",
     "output_type": "stream",
     "text": [
      "Shape of matrix : (4,)\n",
      "New shape : (4, 1)\n",
      "Newly generated matrix : \n",
      "[[ 0  1  2]\n",
      " [10 11 12]\n",
      " [20 21 22]\n",
      " [30 31 32]]\n"
     ]
    }
   ],
   "source": [
    "a = np.arange(0, 40, 10)\n",
    "print('Shape of matrix : {}'.format(a.shape))\n",
    "a = a[:, np.newaxis]                                  # adds a new axis and converts it to a 2D array\n",
    "print('New shape : {}'.format(a.shape))\n",
    "print('Newly generated matrix : \\n{}'.format(a + b))  # Adding matrix a and b"
   ]
  },
  {
   "cell_type": "markdown",
   "metadata": {},
   "source": [
    "## Array shape manipulation\n",
    "We can manipulate the shape of an array using some of the inbuilt operations present in NumPy such as flattening, reshaping, dimention shuffling etc.\n",
    "### Flattening\n",
    "It is used to flatten high dimentional arrays to a one dimentional array. Carefully use the following example-\n"
   ]
  },
  {
   "cell_type": "code",
   "execution_count": 42,
   "metadata": {},
   "outputs": [
    {
     "name": "stdout",
     "output_type": "stream",
     "text": [
      "a : \n",
      "[[1 2 3]\n",
      " [4 5 6]]\n",
      "\n",
      "After ravelling a : [1 2 3 4 5 6]\n"
     ]
    }
   ],
   "source": [
    "a = np.array([[1, 2, 3], [4, 5, 6]])\n",
    "print('a : \\n{}\\n'.format(a)) \n",
    "print('After ravelling a : {}'.format(a.ravel()))                       # Ravelling operation"
   ]
  },
  {
   "cell_type": "markdown",
   "metadata": {},
   "source": [
    "### Reshaping\n",
    "Reshaping hepls us to transform one array to another array with different dimention. One thing you have to stay carefull of is that ndarray.reshape may return a **view or copy** of original array. To learn about this you need to learn memory layout of the NumPy array. Check the following code- "
   ]
  },
  {
   "cell_type": "code",
   "execution_count": 43,
   "metadata": {},
   "outputs": [
    {
     "name": "stdout",
     "output_type": "stream",
     "text": [
      "a : [0. 2. 4. 6.]\n",
      "\n",
      "a reshaped to 2 X 2: \n",
      "[[0. 2.]\n",
      " [4. 6.]]\n"
     ]
    }
   ],
   "source": [
    "a = np.linspace(0,6,4)\n",
    "print('a : {}\\n'.format(a))\n",
    "print('a reshaped to 2 X 2: \\n{}'.format(a.reshape(2,-1)))               # Reshaping a to 2 X 2\n",
    "                                                                         # You can insert -1 as one dimention and NumPy will\n",
    "                                                                         # automatically calculate that dimention"
   ]
  },
  {
   "cell_type": "markdown",
   "metadata": {},
   "source": [
    "## Sorting\n",
    "Sorting can also be performed along any axis and indexes can also be extacted in sorted manner. "
   ]
  },
  {
   "cell_type": "code",
   "execution_count": 44,
   "metadata": {},
   "outputs": [
    {
     "name": "stdout",
     "output_type": "stream",
     "text": [
      "a : \n",
      "[[4 3 5]\n",
      " [1 2 1]]\n",
      "\n",
      "b : \n",
      "[[3 4 5]\n",
      " [1 1 2]]\n",
      "\n",
      "a : [4 3 1 2]\n",
      "\n",
      "j : [2 3 1 0]\n"
     ]
    }
   ],
   "source": [
    "a = np.array([[4, 3, 5], [1, 2, 1]])\n",
    "b = np.sort(a, axis=1)                                       # Array sorted row wise\n",
    "print('a : \\n{}\\n'.format(a))\n",
    "print('b : \\n{}\\n'.format(b))\n",
    "\n",
    "# Fancy indexing can also be used - \n",
    "a = np.array([4, 3, 1, 2])\n",
    "j = np.argsort(a)                                           # argsort() will return the index of sorted array in ascending order\n",
    "print('a : {}\\n'.format(a))\n",
    "print('j : {}'.format(j))"
   ]
  },
  {
   "cell_type": "markdown",
   "metadata": {},
   "source": [
    "## Casting\n",
    "Casting is a very important operation in sort of programming language. “Bigger” type wins in mixed-type operations"
   ]
  },
  {
   "cell_type": "code",
   "execution_count": 45,
   "metadata": {},
   "outputs": [
    {
     "name": "stdout",
     "output_type": "stream",
     "text": [
      "datatype a             : int64\n",
      "After adding 1.5 to a  : float64\n",
      "After casting a to int : int64\n",
      "b : [2. 4. 4.]\n"
     ]
    }
   ],
   "source": [
    "a = np.array([1, 2, 3]) \n",
    "print('datatype a             : {}'.format(a.dtype))\n",
    "print('After adding 1.5 to a  : {}'.format((a+1.5).dtype))                 # Adding 1.5 changes type to float \n",
    "\n",
    "# Datatype can also be changed forcefully \n",
    "print('After casting a to int : {}'.format(((a+1.5).astype(int)).dtype))   # type casted to int\n",
    "\n",
    "# elements can also be rounded\n",
    "b = np.around(a + 1.5)\n",
    "print('b : {}'.format(b))                                                  # Still floating point but in rounded form"
   ]
  },
  {
   "cell_type": "markdown",
   "metadata": {},
   "source": [
    "## Additional Numpy functions\n",
    "Numpy as a library contains a lot of useful fucntions but we cannot describe all of them here in this tutorial as it is out of scope. So we are going to describe a handful of them in order to give you additional knowledge.\n",
    "### numpy.unique\n",
    "Find the unique elements of an array."
   ]
  },
  {
   "cell_type": "code",
   "execution_count": 46,
   "metadata": {},
   "outputs": [
    {
     "name": "stdout",
     "output_type": "stream",
     "text": [
      "x: [0 0 2 0 1 2 0 2 1 2]\n",
      "Unique elements in x: [0 1 2]\n",
      "\n",
      "y: [0 2 1 8 2 8 0 0 5]\n",
      "Unique elements in y: [0 1 2 5 8]\n"
     ]
    }
   ],
   "source": [
    "x = np.random.randint(0,3,10)\n",
    "print('x: {}'.format(x))\n",
    "\n",
    "x_unique = np.unique(x)\n",
    "print('Unique elements in x: {}\\n'.format(x_unique))\n",
    "\n",
    "y = np.array([0,2,1,8,2,8,0,0,5])\n",
    "print('y: {}'.format(y))\n",
    "\n",
    "y_unique = np.unique(y)\n",
    "print('Unique elements in y: {}'.format(y_unique)) # NOTE: the output is always sorted in ascending order"
   ]
  },
  {
   "cell_type": "markdown",
   "metadata": {},
   "source": [
    "### numpy.bincount\n",
    "Count number of occurrences of each value in array of non-negative ints. Here the item itself is the index in the output array. If you have unique elements that are very far apart from each other, the resultant matrix will be a sparse matrix. "
   ]
  },
  {
   "cell_type": "code",
   "execution_count": 47,
   "metadata": {},
   "outputs": [
    {
     "name": "stdout",
     "output_type": "stream",
     "text": [
      "y: [0 2 1 8 2 8 0 0 5]\n",
      "Number of occurances each element in y: [3 1 2 0 0 1 0 0 2]\n",
      "Mapping Table: \n",
      "[[0 3]\n",
      " [1 1]\n",
      " [2 2]\n",
      " [5 1]\n",
      " [8 2]]\n"
     ]
    }
   ],
   "source": [
    "y = np.array([0,2,1,8,2,8,0,0,5])\n",
    "print('y: {}'.format(y))\n",
    "\n",
    "y_bincount = np.bincount(y)                                             \n",
    "print('Number of occurances each element in y: {}'.format(y_bincount))  \n",
    "\n",
    "# If you want to create a dense matrix, it is a better option to create a two dimentional matrix with one dimention \n",
    "# representing keys and other representing value\n",
    "\n",
    "mapping_table = np.c_[np.unique(y), y_bincount[np.nonzero(y_bincount)]]\n",
    "print('Mapping Table: \\n{}'.format(mapping_table))"
   ]
  },
  {
   "cell_type": "markdown",
   "metadata": {},
   "source": [
    "### numpy.cumsum\n",
    "Return the cumulative sum of the elements along a given axis."
   ]
  },
  {
   "cell_type": "code",
   "execution_count": 48,
   "metadata": {},
   "outputs": [
    {
     "name": "stdout",
     "output_type": "stream",
     "text": [
      "y: [0 2 1 8 2 8 0 0 5]\n",
      "Number of occurances each element in y: [ 0  2  3 11 13 21 21 21 26]\n"
     ]
    }
   ],
   "source": [
    "y = np.array([0,2,1,8,2,8,0,0,5])\n",
    "print('y: {}'.format(y))\n",
    "\n",
    "y_cdf = np.cumsum(y,axis=0)                                             \n",
    "print('Number of occurances each element in y: {}'.format(y_cdf))"
   ]
  },
  {
   "cell_type": "markdown",
   "metadata": {},
   "source": [
    "### numpy.ndarray.size\n",
    "Number of elements in the array."
   ]
  },
  {
   "cell_type": "code",
   "execution_count": 49,
   "metadata": {},
   "outputs": [
    {
     "name": "stdout",
     "output_type": "stream",
     "text": [
      "x: [[0 1 2]\n",
      " [3 4 5]\n",
      " [6 7 8]]\n",
      "Number element in x: 9\n"
     ]
    }
   ],
   "source": [
    "x = np.arange(9).reshape(3,3)\n",
    "print('x: {}'.format(x))\n",
    "\n",
    "no_element = np.size(x)\n",
    "print('Number element in x: {}'.format(no_element))"
   ]
  },
  {
   "cell_type": "markdown",
   "metadata": {},
   "source": [
    "### numpy.histogram\n",
    "Compute the histogram of a set of data. The function returns a couple of values, out of these two values first is the occurance count and second is the bin size(i.e. the number of bins you want to create). You can easily plot this histogram using matplotlib.pyplot library. Follow the following example carefully to understand how it is done-  "
   ]
  },
  {
   "cell_type": "code",
   "execution_count": 50,
   "metadata": {},
   "outputs": [
    {
     "name": "stdout",
     "output_type": "stream",
     "text": [
      "x: [[1 5 7 4 3]\n",
      " [1 7 3 1 9]\n",
      " [5 7 0 9 6]\n",
      " [0 5 2 8 6]\n",
      " [8 0 5 2 0]]\n"
     ]
    },
    {
     "data": {
      "image/png": "[encoded data removed]",
      "text/plain": [
       "<Figure size 432x288 with 1 Axes>"
      ]
     },
     "metadata": {
      "needs_background": "light"
     },
     "output_type": "display_data"
    }
   ],
   "source": [
    "x = np.random.randint(0,10,(5,5))\n",
    "print('x: {}'.format(x))\n",
    "\n",
    "hist, bins = np.histogram(x,np.size(x))                           # Second argument is the number of bins \n",
    "# Now the following are plotting procedure\n",
    "# First we need to import the library\n",
    "import matplotlib.pyplot as plt\n",
    "plt.hist(x,np.unique(x),[x.min(),x.max()])                        # second argument is no of bins and third is range of values \n",
    "plt.show()"
   ]
  },
  {
   "cell_type": "markdown",
   "metadata": {},
   "source": [
    "### numpy.ma module\n",
    "A masked array is the combination of a standard numpy.ndarray and a mask. A mask is either nomask, indicating that no value of the associated array is invalid, or an array of booleans that determines for each element of the associated array whether the value is valid or not. When an element of the mask is False, the corresponding element of the associated array is valid and is said to be unmasked. When an element of the mask is True, the corresponding element of the associated array is said to be masked (invalid). There is complete list of these functions that we can use to create masks conveniently.\n",
    "\n",
    "![Masking Function](Images\\masking.png)\n",
    "\n",
    "#### numpy.ma.filled\n",
    "Return input as an array with masked data replaced by a fill value."
   ]
  },
  {
   "cell_type": "code",
   "execution_count": 51,
   "metadata": {
    "scrolled": true
   },
   "outputs": [
    {
     "name": "stdout",
     "output_type": "stream",
     "text": [
      "x: \n",
      "[[4 0 3 3 3]\n",
      " [1 3 2 4 0]\n",
      " [0 4 2 1 0]\n",
      " [1 1 0 1 4]\n",
      " [3 0 3 0 2]]\n",
      "\n",
      "x with certain value(0) masked: \n",
      "[[4 -- 3 3 3]\n",
      " [1 3 2 4 --]\n",
      " [-- 4 2 1 --]\n",
      " [1 1 -- 1 4]\n",
      " [3 -- 3 -- 2]]\n",
      "\n",
      "x: \n",
      "[[ 4 99  3  3  3]\n",
      " [ 1  3  2  4 99]\n",
      " [99  4  2  1 99]\n",
      " [ 1  1 99  1  4]\n",
      " [ 3 99  3 99  2]]\n"
     ]
    }
   ],
   "source": [
    "np.random.seed(0)\n",
    "x = np.random.randint(0,5,(5,5))\n",
    "print('x: \\n{}'.format(x))\n",
    "\n",
    "x_m = np.ma.masked_equal(x,0)\n",
    "print('\\nx with certain value(0) masked: \\n{}'.format(x_m))\n",
    "\n",
    "x = np.ma.filled(x_m,99).astype(np.uint8)                    # replacing all the zeros with a certain specified value\n",
    "print('\\nx: \\n{}'.format(x))"
   ]
  },
  {
   "cell_type": "markdown",
   "metadata": {},
   "source": []
  },
  {
   "cell_type": "code",
   "execution_count": null,
   "metadata": {},
   "outputs": [],
   "source": []
  }
 ],
 "metadata": {
  "anaconda-cloud": {},
  "kernelspec": {
   "display_name": "Python 3",
   "language": "python",
   "name": "python3"
  },
  "language_info": {
   "codemirror_mode": {
    "name": "ipython",
    "version": 2
   },
   "file_extension": ".py",
   "mimetype": "text/x-python",
   "name": "python",
   "nbconvert_exporter": "python",
   "pygments_lexer": "ipython2",
   "version": "2.7.12"
  }
 },
 "nbformat": 4,
 "nbformat_minor": 1
}
